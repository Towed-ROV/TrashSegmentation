{
 "cells": [
  {
   "cell_type": "code",
   "execution_count": 2,
   "id": "c8e8b73f",
   "metadata": {},
   "outputs": [],
   "source": [
    "import os\n",
    "import sys\n",
    "import random\n",
    "import math\n",
    "import re\n",
    "import time\n",
    "import numpy as np\n",
    "import tensorflow as tf\n",
    "import matplotlib\n",
    "import matplotlib.pyplot as plt\n",
    "import matplotlib.patches as patches\n",
    "\n",
    "# Root directory of the project\n",
    "# ROOT_DIR = os.path.abspath(\"../../\")\n",
    "#ROOT_DIR = '/content/drive/My Drive/License plate/Mask_RCNN-master'\n",
    "ROOT_DIR = r'C:\\Users\\Saad\\Projects\\Mask_RCNN-master'\n",
    "\n",
    "\n",
    "# Import Mask RCNN\n",
    "sys.path.append(ROOT_DIR)  # To find local version of the library\n",
    "from mrcnn import utils\n",
    "from mrcnn import visualize\n",
    "from mrcnn.visualize import display_images\n",
    "import mrcnn.model as modellib\n",
    "from mrcnn.model import log\n",
    "\n",
    "sys.path.append(os.path.join(ROOT_DIR, \"samples/under_sea/\"))  # To find local version\n",
    "import underwater\n",
    "\n",
    "%matplotlib inline \n",
    "\n",
    "# Directory to save logs and trained model\n",
    "MODEL_DIR = os.path.join(ROOT_DIR, \"logs\")\n",
    "\n",
    "# Path to Ballon trained weights\n",
    "# You can download this file from the Releases page\n",
    "# https://github.com/matterport/Mask_RCNN/releases\n",
    "WEIGHTS_PATH = ROOT_DIR +\"/mask_rcnn_coco.h5\"  # TODO: update this path"
   ]
  },
  {
   "cell_type": "code",
   "execution_count": 3,
   "id": "c1fa3c2b",
   "metadata": {},
   "outputs": [],
   "source": [
    "config = underwater.UnderWaterConfig()\n",
    "UNDERWATER_DIR = os.path.join(ROOT_DIR, \"datasets\", \"instance_version\")\n",
    "TRAINED_WEIGHTS_PATH = os.path.join(ROOT_DIR, 'logs', 'underwater20210827T2158', 'mask_rcnn_underwater_0300.h5')"
   ]
  },
  {
   "cell_type": "code",
   "execution_count": 4,
   "id": "6c1eaf2b",
   "metadata": {},
   "outputs": [
    {
     "name": "stdout",
     "output_type": "stream",
     "text": [
      "\n",
      "Configurations:\n",
      "BACKBONE                       resnet101\n",
      "BACKBONE_STRIDES               [4, 8, 16, 32, 64]\n",
      "BATCH_SIZE                     1\n",
      "BBOX_STD_DEV                   [0.1 0.1 0.2 0.2]\n",
      "COMPUTE_BACKBONE_SHAPE         None\n",
      "DETECTION_MAX_INSTANCES        100\n",
      "DETECTION_MIN_CONFIDENCE       0.9\n",
      "DETECTION_NMS_THRESHOLD        0.3\n",
      "FPN_CLASSIF_FC_LAYERS_SIZE     1024\n",
      "GPU_COUNT                      1\n",
      "GRADIENT_CLIP_NORM             5.0\n",
      "IMAGES_PER_GPU                 1\n",
      "IMAGE_CHANNEL_COUNT            3\n",
      "IMAGE_MAX_DIM                  1024\n",
      "IMAGE_META_SIZE                35\n",
      "IMAGE_MIN_DIM                  800\n",
      "IMAGE_MIN_SCALE                0\n",
      "IMAGE_RESIZE_MODE              square\n",
      "IMAGE_SHAPE                    [1024 1024    3]\n",
      "LEARNING_MOMENTUM              0.9\n",
      "LEARNING_RATE                  0.001\n",
      "LOSS_WEIGHTS                   {'rpn_class_loss': 1.0, 'rpn_bbox_loss': 1.0, 'mrcnn_class_loss': 1.0, 'mrcnn_bbox_loss': 1.0, 'mrcnn_mask_loss': 1.0}\n",
      "MASK_POOL_SIZE                 14\n",
      "MASK_SHAPE                     [28, 28]\n",
      "MAX_GT_INSTANCES               100\n",
      "MEAN_PIXEL                     [123.7 116.8 103.9]\n",
      "MINI_MASK_SHAPE                (56, 56)\n",
      "NAME                           underwater\n",
      "NUM_CLASSES                    23\n",
      "POOL_SIZE                      7\n",
      "POST_NMS_ROIS_INFERENCE        1000\n",
      "POST_NMS_ROIS_TRAINING         2000\n",
      "PRE_NMS_LIMIT                  6000\n",
      "ROI_POSITIVE_RATIO             0.33\n",
      "RPN_ANCHOR_RATIOS              [0.5, 1, 2]\n",
      "RPN_ANCHOR_SCALES              (32, 64, 128, 256, 512)\n",
      "RPN_ANCHOR_STRIDE              1\n",
      "RPN_BBOX_STD_DEV               [0.1 0.1 0.2 0.2]\n",
      "RPN_NMS_THRESHOLD              0.7\n",
      "RPN_TRAIN_ANCHORS_PER_IMAGE    256\n",
      "STEPS_PER_EPOCH                100\n",
      "TOP_DOWN_PYRAMID_SIZE          256\n",
      "TRAIN_BN                       False\n",
      "TRAIN_ROIS_PER_IMAGE           200\n",
      "USE_MINI_MASK                  True\n",
      "USE_RPN_ROIS                   True\n",
      "VALIDATION_STEPS               50\n",
      "WEIGHT_DECAY                   0.0001\n",
      "\n",
      "\n"
     ]
    }
   ],
   "source": [
    "# Override the training configurations with a few\n",
    "# changes for inferencing.\n",
    "class InferenceConfig(config.__class__):\n",
    "    # Run detection on one image at a time\n",
    "    GPU_COUNT = 1\n",
    "    IMAGES_PER_GPU = 1\n",
    "\n",
    "config = InferenceConfig()\n",
    "config.display()"
   ]
  },
  {
   "cell_type": "code",
   "execution_count": 5,
   "id": "2216e049",
   "metadata": {},
   "outputs": [],
   "source": [
    "# Device to load the neural network on.\n",
    "# Useful if you're training a model on the same \n",
    "# machine, in which case use CPU and leave the\n",
    "# GPU for training.\n",
    "DEVICE = \"/cpu:0\"  # /cpu:0 or /gpu:0\n",
    "\n",
    "# Inspect the model in training or inference modes\n",
    "# values: 'inference' or 'training'\n",
    "# TODO: code for 'training' test mode not ready yet\n",
    "TEST_MODE = \"inference\""
   ]
  },
  {
   "cell_type": "code",
   "execution_count": 6,
   "id": "d00ba87b",
   "metadata": {},
   "outputs": [],
   "source": [
    "def get_ax(rows=1, cols=1, size=16):\n",
    "    \"\"\"Return a Matplotlib Axes array to be used in\n",
    "    all visualizations in the notebook. Provide a\n",
    "    central point to control graph sizes.\n",
    "    \n",
    "    Adjust the size attribute to control how big to render images\n",
    "    \"\"\"\n",
    "    _, ax = plt.subplots(rows, cols, figsize=(size*cols, size*rows))\n",
    "    return ax"
   ]
  },
  {
   "cell_type": "code",
   "execution_count": 7,
   "id": "483f615b",
   "metadata": {},
   "outputs": [
    {
     "name": "stdout",
     "output_type": "stream",
     "text": [
      "loading annotations into memory...\n",
      "Done (t=0.12s)\n",
      "creating index...\n",
      "index created!\n",
      "Image Count: 1147\n",
      "Class Count: 23\n",
      "  0. BG                                                \n",
      "  1. rov                                               \n",
      "  2. plant                                             \n",
      "  3. animal_fish                                       \n",
      "  4. animal_starfish                                   \n",
      "  5. animal_shells                                     \n",
      "  6. animal_crab                                       \n",
      "  7. animal_eel                                        \n",
      "  8. animal_etc                                        \n",
      "  9. trash_clothing                                    \n",
      " 10. trash_pipe                                        \n",
      " 11. trash_bottle                                      \n",
      " 12. trash_bag                                         \n",
      " 13. trash_snack_wrapper                               \n",
      " 14. trash_can                                         \n",
      " 15. trash_cup                                         \n",
      " 16. trash_container                                   \n",
      " 17. trash_unknown_instance                            \n",
      " 18. trash_branch                                      \n",
      " 19. trash_wreckage                                    \n",
      " 20. trash_tarp                                        \n",
      " 21. trash_rope                                        \n",
      " 22. trash_net                                         \n",
      "['BG', 'rov', 'plant', 'animal_fish', 'animal_starfish', 'animal_shells', 'animal_crab', 'animal_eel', 'animal_etc', 'trash_clothing', 'trash_pipe', 'trash_bottle', 'trash_bag', 'trash_snack_wrapper', 'trash_can', 'trash_cup', 'trash_container', 'trash_unknown_instance', 'trash_branch', 'trash_wreckage', 'trash_tarp', 'trash_rope', 'trash_net']\n"
     ]
    }
   ],
   "source": [
    "dataset = underwater.UnderWaterDataset()\n",
    "dataset.load_under_water(UNDERWATER_DIR, \"val\")\n",
    "\n",
    "dataset.prepare()\n",
    "\n",
    "class_names = [] \n",
    "print(\"Image Count: {}\".format(len(dataset.image_ids)))\n",
    "print(\"Class Count: {}\".format(dataset.num_classes))\n",
    "for i, info in enumerate(dataset.class_info):\n",
    "    print(\"{:3}. {:50}\".format(i, info['name']))\n",
    "    \n",
    "    class_names.append(info['name'])\n",
    "print(class_names)"
   ]
  },
  {
   "cell_type": "code",
   "execution_count": 8,
   "id": "aebfaf60",
   "metadata": {},
   "outputs": [
    {
     "name": "stdout",
     "output_type": "stream",
     "text": [
      "WARNING:tensorflow:From C:\\Users\\Saad\\Software\\anaconda\\envs\\mrcnnENV\\lib\\site-packages\\tensorflow\\python\\ops\\resource_variable_ops.py:1666: calling BaseResourceVariable.__init__ (from tensorflow.python.ops.resource_variable_ops) with constraint is deprecated and will be removed in a future version.\n",
      "Instructions for updating:\n",
      "If using Keras pass *_constraint arguments to layers.\n"
     ]
    }
   ],
   "source": [
    "# Create model in inference mode\n",
    "with tf.device(DEVICE):\n",
    "    model = modellib.MaskRCNN(mode=\"inference\", model_dir=MODEL_DIR,\n",
    "                              config=config)"
   ]
  },
  {
   "cell_type": "code",
   "execution_count": 9,
   "id": "5951a295",
   "metadata": {},
   "outputs": [
    {
     "name": "stdout",
     "output_type": "stream",
     "text": [
      "Loading weights  C:\\Users\\Saad\\Projects\\Mask_RCNN-master\\logs\\underwater20210827T2158\\mask_rcnn_underwater_0300.h5\n",
      "Re-starting from epoch 300\n"
     ]
    }
   ],
   "source": [
    "# Load weights\n",
    "print(\"Loading weights \", TRAINED_WEIGHTS_PATH)\n",
    "model.load_weights(TRAINED_WEIGHTS_PATH, by_name=True)"
   ]
  },
  {
   "cell_type": "code",
   "execution_count": 10,
   "id": "00003891",
   "metadata": {},
   "outputs": [
    {
     "name": "stdout",
     "output_type": "stream",
     "text": [
      "image ID: underwater.7154 (1010) \n",
      "Processing 1 images\n",
      "image                    shape: (1024, 1024, 3)       min:    0.00000  max:  255.00000  uint8\n",
      "molded_images            shape: (1, 1024, 1024, 3)    min: -123.70000  max:  151.10000  float64\n",
      "image_metas              shape: (1, 35)               min:    0.00000  max: 1024.00000  int32\n"
     ]
    },
    {
     "name": "stderr",
     "output_type": "stream",
     "text": [
      "C:\\Users\\Saad\\Software\\anaconda\\envs\\mrcnnENV\\lib\\site-packages\\skimage\\transform\\_warps.py:830: FutureWarning: Input image dtype is bool. Interpolation is not defined with bool data type. Please set order to 0 or explicitely cast input image to another data type. Starting from version 0.19 a ValueError will be raised instead of this warning.\n",
      "  order = _validate_interpolation_order(image.dtype, order)\n"
     ]
    },
    {
     "name": "stdout",
     "output_type": "stream",
     "text": [
      "anchors                  shape: (1, 261888, 4)        min:   -0.35390  max:    1.29134  float32\n",
      "gt_class_id              shape: (2,)                  min:    1.00000  max:   17.00000  int32\n",
      "gt_bbox                  shape: (2, 4)                min:   57.00000  max: 1024.00000  int32\n",
      "gt_mask                  shape: (56, 56, 2)           min:    0.00000  max:    1.00000  bool\n",
      "image ID: underwater.6366 (222) \n",
      "Processing 1 images\n",
      "image                    shape: (1024, 1024, 3)       min:    0.00000  max:  253.00000  uint8\n",
      "molded_images            shape: (1, 1024, 1024, 3)    min: -123.70000  max:  149.10000  float64\n",
      "image_metas              shape: (1, 35)               min:    0.00000  max: 1024.00000  int32\n",
      "anchors                  shape: (1, 261888, 4)        min:   -0.35390  max:    1.29134  float32\n"
     ]
    },
    {
     "name": "stderr",
     "output_type": "stream",
     "text": [
      "C:\\Users\\Saad\\Software\\anaconda\\envs\\mrcnnENV\\lib\\site-packages\\skimage\\transform\\_warps.py:830: FutureWarning: Input image dtype is bool. Interpolation is not defined with bool data type. Please set order to 0 or explicitely cast input image to another data type. Starting from version 0.19 a ValueError will be raised instead of this warning.\n",
      "  order = _validate_interpolation_order(image.dtype, order)\n"
     ]
    },
    {
     "name": "stdout",
     "output_type": "stream",
     "text": [
      "gt_class_id              shape: (1,)                  min:   18.00000  max:   18.00000  int32\n",
      "gt_bbox                  shape: (1, 4)                min:    0.00000  max: 1024.00000  int32\n",
      "gt_mask                  shape: (56, 56, 1)           min:    0.00000  max:    1.00000  bool\n",
      "image ID: underwater.6627 (483) \n",
      "Processing 1 images\n",
      "image                    shape: (1024, 1024, 3)       min:    0.00000  max:  255.00000  uint8\n",
      "molded_images            shape: (1, 1024, 1024, 3)    min: -123.70000  max:  151.10000  float64\n",
      "image_metas              shape: (1, 35)               min:    0.00000  max: 1024.00000  int32\n",
      "anchors                  shape: (1, 261888, 4)        min:   -0.35390  max:    1.29134  float32\n"
     ]
    },
    {
     "name": "stderr",
     "output_type": "stream",
     "text": [
      "C:\\Users\\Saad\\Software\\anaconda\\envs\\mrcnnENV\\lib\\site-packages\\skimage\\transform\\_warps.py:830: FutureWarning: Input image dtype is bool. Interpolation is not defined with bool data type. Please set order to 0 or explicitely cast input image to another data type. Starting from version 0.19 a ValueError will be raised instead of this warning.\n",
      "  order = _validate_interpolation_order(image.dtype, order)\n"
     ]
    },
    {
     "name": "stdout",
     "output_type": "stream",
     "text": [
      "gt_class_id              shape: (2,)                  min:    1.00000  max:   14.00000  int32\n",
      "gt_bbox                  shape: (2, 4)                min:  254.00000  max: 1020.00000  int32\n",
      "gt_mask                  shape: (56, 56, 2)           min:    0.00000  max:    1.00000  bool\n"
     ]
    },
    {
     "name": "stderr",
     "output_type": "stream",
     "text": [
      "C:\\Users\\Saad\\Software\\anaconda\\envs\\mrcnnENV\\lib\\site-packages\\skimage\\transform\\_warps.py:830: FutureWarning: Input image dtype is bool. Interpolation is not defined with bool data type. Please set order to 0 or explicitely cast input image to another data type. Starting from version 0.19 a ValueError will be raised instead of this warning.\n",
      "  order = _validate_interpolation_order(image.dtype, order)\n"
     ]
    },
    {
     "name": "stdout",
     "output_type": "stream",
     "text": [
      "image ID: underwater.6068 (1071) \n",
      "Processing 1 images\n",
      "image                    shape: (1024, 1024, 3)       min:    0.00000  max:  254.00000  uint8\n",
      "molded_images            shape: (1, 1024, 1024, 3)    min: -123.70000  max:  150.10000  float64\n",
      "image_metas              shape: (1, 35)               min:    0.00000  max: 1024.00000  int32\n",
      "anchors                  shape: (1, 261888, 4)        min:   -0.35390  max:    1.29134  float32\n",
      "\n",
      "*** No instances to display *** \n",
      "\n",
      "gt_class_id              shape: (8,)                  min:    4.00000  max:   22.00000  int32\n",
      "gt_bbox                  shape: (8, 4)                min:    2.00000  max: 1024.00000  int32\n",
      "gt_mask                  shape: (56, 56, 8)           min:    0.00000  max:    1.00000  bool\n",
      "image ID: underwater.6765 (621) \n",
      "Processing 1 images\n",
      "image                    shape: (1024, 1024, 3)       min:    0.00000  max:  255.00000  uint8\n",
      "molded_images            shape: (1, 1024, 1024, 3)    min: -123.70000  max:  137.20000  float64\n",
      "image_metas              shape: (1, 35)               min:    0.00000  max: 1024.00000  int32\n",
      "anchors                  shape: (1, 261888, 4)        min:   -0.35390  max:    1.29134  float32\n"
     ]
    },
    {
     "name": "stderr",
     "output_type": "stream",
     "text": [
      "C:\\Users\\Saad\\Software\\anaconda\\envs\\mrcnnENV\\lib\\site-packages\\skimage\\transform\\_warps.py:830: FutureWarning: Input image dtype is bool. Interpolation is not defined with bool data type. Please set order to 0 or explicitely cast input image to another data type. Starting from version 0.19 a ValueError will be raised instead of this warning.\n",
      "  order = _validate_interpolation_order(image.dtype, order)\n"
     ]
    },
    {
     "name": "stdout",
     "output_type": "stream",
     "text": [
      "gt_class_id              shape: (1,)                  min:   12.00000  max:   12.00000  int32\n",
      "gt_bbox                  shape: (1, 4)                min:    0.00000  max:  790.00000  int32\n",
      "gt_mask                  shape: (56, 56, 1)           min:    0.00000  max:    1.00000  bool\n",
      "image ID: underwater.7099 (955) \n",
      "Processing 1 images\n",
      "image                    shape: (1024, 1024, 3)       min:    0.00000  max:  254.00000  uint8\n",
      "molded_images            shape: (1, 1024, 1024, 3)    min: -123.70000  max:  150.10000  float64\n",
      "image_metas              shape: (1, 35)               min:    0.00000  max: 1024.00000  int32\n",
      "anchors                  shape: (1, 261888, 4)        min:   -0.35390  max:    1.29134  float32\n"
     ]
    },
    {
     "name": "stderr",
     "output_type": "stream",
     "text": [
      "C:\\Users\\Saad\\Software\\anaconda\\envs\\mrcnnENV\\lib\\site-packages\\skimage\\transform\\_warps.py:830: FutureWarning: Input image dtype is bool. Interpolation is not defined with bool data type. Please set order to 0 or explicitely cast input image to another data type. Starting from version 0.19 a ValueError will be raised instead of this warning.\n",
      "  order = _validate_interpolation_order(image.dtype, order)\n"
     ]
    },
    {
     "name": "stdout",
     "output_type": "stream",
     "text": [
      "gt_class_id              shape: (1,)                  min:   17.00000  max:   17.00000  int32\n",
      "gt_bbox                  shape: (1, 4)                min:  369.00000  max:  834.00000  int32\n",
      "gt_mask                  shape: (56, 56, 1)           min:    0.00000  max:    1.00000  bool\n",
      "image ID: underwater.6133 (1136) \n",
      "Processing 1 images\n",
      "image                    shape: (1024, 1024, 3)       min:    0.00000  max:  253.00000  uint8\n",
      "molded_images            shape: (1, 1024, 1024, 3)    min: -123.70000  max:  148.10000  float64\n",
      "image_metas              shape: (1, 35)               min:    0.00000  max: 1024.00000  int32\n",
      "anchors                  shape: (1, 261888, 4)        min:   -0.35390  max:    1.29134  float32\n"
     ]
    },
    {
     "name": "stderr",
     "output_type": "stream",
     "text": [
      "C:\\Users\\Saad\\Software\\anaconda\\envs\\mrcnnENV\\lib\\site-packages\\skimage\\transform\\_warps.py:830: FutureWarning: Input image dtype is bool. Interpolation is not defined with bool data type. Please set order to 0 or explicitely cast input image to another data type. Starting from version 0.19 a ValueError will be raised instead of this warning.\n",
      "  order = _validate_interpolation_order(image.dtype, order)\n"
     ]
    },
    {
     "name": "stdout",
     "output_type": "stream",
     "text": [
      "gt_class_id              shape: (4,)                  min:   17.00000  max:   21.00000  int32\n",
      "gt_bbox                  shape: (4, 4)                min:    0.00000  max:  899.00000  int32\n",
      "gt_mask                  shape: (56, 56, 4)           min:    0.00000  max:    1.00000  bool\n",
      "image ID: underwater.6262 (118) \n",
      "Processing 1 images\n",
      "image                    shape: (1024, 1024, 3)       min:    0.00000  max:  254.00000  uint8\n",
      "molded_images            shape: (1, 1024, 1024, 3)    min: -123.70000  max:  150.10000  float64\n",
      "image_metas              shape: (1, 35)               min:    0.00000  max: 1024.00000  int32\n",
      "anchors                  shape: (1, 261888, 4)        min:   -0.35390  max:    1.29134  float32\n"
     ]
    },
    {
     "name": "stderr",
     "output_type": "stream",
     "text": [
      "C:\\Users\\Saad\\Software\\anaconda\\envs\\mrcnnENV\\lib\\site-packages\\skimage\\transform\\_warps.py:830: FutureWarning: Input image dtype is bool. Interpolation is not defined with bool data type. Please set order to 0 or explicitely cast input image to another data type. Starting from version 0.19 a ValueError will be raised instead of this warning.\n",
      "  order = _validate_interpolation_order(image.dtype, order)\n"
     ]
    },
    {
     "name": "stdout",
     "output_type": "stream",
     "text": [
      "gt_class_id              shape: (1,)                  min:   11.00000  max:   11.00000  int32\n",
      "gt_bbox                  shape: (1, 4)                min:  313.00000  max:  585.00000  int32\n",
      "gt_mask                  shape: (56, 56, 1)           min:    0.00000  max:    1.00000  bool\n",
      "image ID: underwater.6646 (502) \n",
      "Processing 1 images\n",
      "image                    shape: (1024, 1024, 3)       min:    0.00000  max:  255.00000  uint8\n",
      "molded_images            shape: (1, 1024, 1024, 3)    min: -123.70000  max:  151.10000  float64\n",
      "image_metas              shape: (1, 35)               min:    0.00000  max: 1024.00000  int32\n",
      "anchors                  shape: (1, 261888, 4)        min:   -0.35390  max:    1.29134  float32\n"
     ]
    },
    {
     "name": "stderr",
     "output_type": "stream",
     "text": [
      "C:\\Users\\Saad\\Software\\anaconda\\envs\\mrcnnENV\\lib\\site-packages\\skimage\\transform\\_warps.py:830: FutureWarning: Input image dtype is bool. Interpolation is not defined with bool data type. Please set order to 0 or explicitely cast input image to another data type. Starting from version 0.19 a ValueError will be raised instead of this warning.\n",
      "  order = _validate_interpolation_order(image.dtype, order)\n"
     ]
    },
    {
     "name": "stdout",
     "output_type": "stream",
     "text": [
      "gt_class_id              shape: (2,)                  min:    1.00000  max:    3.00000  int32\n",
      "gt_bbox                  shape: (2, 4)                min:    0.00000  max:  922.00000  int32\n",
      "gt_mask                  shape: (56, 56, 2)           min:    0.00000  max:    1.00000  bool\n",
      "image ID: underwater.6593 (449) \n",
      "Processing 1 images\n",
      "image                    shape: (1024, 1024, 3)       min:    0.00000  max:  254.00000  uint8\n",
      "molded_images            shape: (1, 1024, 1024, 3)    min: -123.70000  max:  150.10000  float64\n",
      "image_metas              shape: (1, 35)               min:    0.00000  max: 1024.00000  int32\n",
      "anchors                  shape: (1, 261888, 4)        min:   -0.35390  max:    1.29134  float32\n"
     ]
    },
    {
     "name": "stderr",
     "output_type": "stream",
     "text": [
      "C:\\Users\\Saad\\Software\\anaconda\\envs\\mrcnnENV\\lib\\site-packages\\skimage\\transform\\_warps.py:830: FutureWarning: Input image dtype is bool. Interpolation is not defined with bool data type. Please set order to 0 or explicitely cast input image to another data type. Starting from version 0.19 a ValueError will be raised instead of this warning.\n",
      "  order = _validate_interpolation_order(image.dtype, order)\n"
     ]
    },
    {
     "name": "stdout",
     "output_type": "stream",
     "text": [
      "gt_class_id              shape: (1,)                  min:   16.00000  max:   16.00000  int32\n",
      "gt_bbox                  shape: (1, 4)                min:  738.00000  max:  896.00000  int32\n",
      "gt_mask                  shape: (56, 56, 1)           min:    0.00000  max:    1.00000  bool\n",
      "image ID: underwater.6605 (461) \n",
      "Processing 1 images\n",
      "image                    shape: (1024, 1024, 3)       min:    0.00000  max:  255.00000  uint8\n",
      "molded_images            shape: (1, 1024, 1024, 3)    min: -123.70000  max:  151.10000  float64\n",
      "image_metas              shape: (1, 35)               min:    0.00000  max: 1024.00000  int32\n",
      "anchors                  shape: (1, 261888, 4)        min:   -0.35390  max:    1.29134  float32\n"
     ]
    },
    {
     "name": "stderr",
     "output_type": "stream",
     "text": [
      "C:\\Users\\Saad\\Software\\anaconda\\envs\\mrcnnENV\\lib\\site-packages\\skimage\\transform\\_warps.py:830: FutureWarning: Input image dtype is bool. Interpolation is not defined with bool data type. Please set order to 0 or explicitely cast input image to another data type. Starting from version 0.19 a ValueError will be raised instead of this warning.\n",
      "  order = _validate_interpolation_order(image.dtype, order)\n"
     ]
    },
    {
     "name": "stdout",
     "output_type": "stream",
     "text": [
      "gt_class_id              shape: (1,)                  min:   12.00000  max:   12.00000  int32\n",
      "gt_bbox                  shape: (1, 4)                min:  145.00000  max:  890.00000  int32\n",
      "gt_mask                  shape: (56, 56, 1)           min:    0.00000  max:    1.00000  bool\n"
     ]
    },
    {
     "name": "stderr",
     "output_type": "stream",
     "text": [
      "C:\\Users\\Saad\\Software\\anaconda\\envs\\mrcnnENV\\lib\\site-packages\\skimage\\transform\\_warps.py:830: FutureWarning: Input image dtype is bool. Interpolation is not defined with bool data type. Please set order to 0 or explicitely cast input image to another data type. Starting from version 0.19 a ValueError will be raised instead of this warning.\n",
      "  order = _validate_interpolation_order(image.dtype, order)\n"
     ]
    },
    {
     "name": "stdout",
     "output_type": "stream",
     "text": [
      "image ID: underwater.6559 (415) \n",
      "Processing 1 images\n",
      "image                    shape: (1024, 1024, 3)       min:    0.00000  max:  255.00000  uint8\n",
      "molded_images            shape: (1, 1024, 1024, 3)    min: -123.70000  max:  151.10000  float64\n",
      "image_metas              shape: (1, 35)               min:    0.00000  max: 1024.00000  int32\n",
      "anchors                  shape: (1, 261888, 4)        min:   -0.35390  max:    1.29134  float32\n",
      "gt_class_id              shape: (10,)                 min:    5.00000  max:   16.00000  int32\n",
      "gt_bbox                  shape: (10, 4)               min:  326.00000  max: 1012.00000  int32\n",
      "gt_mask                  shape: (56, 56, 10)          min:    0.00000  max:    1.00000  bool\n",
      "image ID: underwater.6324 (180) \n",
      "Processing 1 images\n",
      "image                    shape: (1024, 1024, 3)       min:    0.00000  max:  253.00000  uint8\n",
      "molded_images            shape: (1, 1024, 1024, 3)    min: -123.70000  max:  149.10000  float64\n",
      "image_metas              shape: (1, 35)               min:    0.00000  max: 1024.00000  int32\n"
     ]
    },
    {
     "name": "stderr",
     "output_type": "stream",
     "text": [
      "C:\\Users\\Saad\\Software\\anaconda\\envs\\mrcnnENV\\lib\\site-packages\\skimage\\transform\\_warps.py:830: FutureWarning: Input image dtype is bool. Interpolation is not defined with bool data type. Please set order to 0 or explicitely cast input image to another data type. Starting from version 0.19 a ValueError will be raised instead of this warning.\n",
      "  order = _validate_interpolation_order(image.dtype, order)\n"
     ]
    },
    {
     "name": "stdout",
     "output_type": "stream",
     "text": [
      "anchors                  shape: (1, 261888, 4)        min:   -0.35390  max:    1.29134  float32\n",
      "gt_class_id              shape: (3,)                  min:   11.00000  max:   17.00000  int32\n",
      "gt_bbox                  shape: (3, 4)                min:  358.00000  max:  815.00000  int32\n",
      "gt_mask                  shape: (56, 56, 3)           min:    0.00000  max:    1.00000  bool\n",
      "image ID: underwater.6576 (432) \n",
      "Processing 1 images\n",
      "image                    shape: (1024, 1024, 3)       min:    0.00000  max:  253.00000  uint8\n",
      "molded_images            shape: (1, 1024, 1024, 3)    min: -123.70000  max:  149.10000  float64\n",
      "image_metas              shape: (1, 35)               min:    0.00000  max: 1024.00000  int32\n",
      "anchors                  shape: (1, 261888, 4)        min:   -0.35390  max:    1.29134  float32\n"
     ]
    },
    {
     "name": "stderr",
     "output_type": "stream",
     "text": [
      "C:\\Users\\Saad\\Software\\anaconda\\envs\\mrcnnENV\\lib\\site-packages\\skimage\\transform\\_warps.py:830: FutureWarning: Input image dtype is bool. Interpolation is not defined with bool data type. Please set order to 0 or explicitely cast input image to another data type. Starting from version 0.19 a ValueError will be raised instead of this warning.\n",
      "  order = _validate_interpolation_order(image.dtype, order)\n"
     ]
    },
    {
     "name": "stdout",
     "output_type": "stream",
     "text": [
      "gt_class_id              shape: (2,)                  min:    7.00000  max:   16.00000  int32\n",
      "gt_bbox                  shape: (2, 4)                min:   76.00000  max:  769.00000  int32\n",
      "gt_mask                  shape: (56, 56, 2)           min:    0.00000  max:    1.00000  bool\n",
      "image ID: underwater.6747 (603) \n",
      "Processing 1 images\n",
      "image                    shape: (1024, 1024, 3)       min:    0.00000  max:  254.00000  uint8\n",
      "molded_images            shape: (1, 1024, 1024, 3)    min: -123.70000  max:  150.10000  float64\n",
      "image_metas              shape: (1, 35)               min:    0.00000  max: 1024.00000  int32\n",
      "anchors                  shape: (1, 261888, 4)        min:   -0.35390  max:    1.29134  float32\n"
     ]
    },
    {
     "name": "stderr",
     "output_type": "stream",
     "text": [
      "C:\\Users\\Saad\\Software\\anaconda\\envs\\mrcnnENV\\lib\\site-packages\\skimage\\transform\\_warps.py:830: FutureWarning: Input image dtype is bool. Interpolation is not defined with bool data type. Please set order to 0 or explicitely cast input image to another data type. Starting from version 0.19 a ValueError will be raised instead of this warning.\n",
      "  order = _validate_interpolation_order(image.dtype, order)\n"
     ]
    },
    {
     "name": "stdout",
     "output_type": "stream",
     "text": [
      "gt_class_id              shape: (1,)                  min:   17.00000  max:   17.00000  int32\n",
      "gt_bbox                  shape: (1, 4)                min:  369.00000  max:  469.00000  int32\n",
      "gt_mask                  shape: (56, 56, 1)           min:    0.00000  max:    1.00000  bool\n",
      "image ID: underwater.6306 (162) \n",
      "Processing 1 images\n",
      "image                    shape: (1024, 1024, 3)       min:    0.00000  max:  255.00000  uint8\n",
      "molded_images            shape: (1, 1024, 1024, 3)    min: -123.70000  max:  151.10000  float64\n",
      "image_metas              shape: (1, 35)               min:    0.00000  max: 1024.00000  int32\n",
      "anchors                  shape: (1, 261888, 4)        min:   -0.35390  max:    1.29134  float32\n"
     ]
    },
    {
     "name": "stderr",
     "output_type": "stream",
     "text": [
      "C:\\Users\\Saad\\Software\\anaconda\\envs\\mrcnnENV\\lib\\site-packages\\skimage\\transform\\_warps.py:830: FutureWarning: Input image dtype is bool. Interpolation is not defined with bool data type. Please set order to 0 or explicitely cast input image to another data type. Starting from version 0.19 a ValueError will be raised instead of this warning.\n",
      "  order = _validate_interpolation_order(image.dtype, order)\n"
     ]
    },
    {
     "name": "stdout",
     "output_type": "stream",
     "text": [
      "gt_class_id              shape: (3,)                  min:    1.00000  max:   14.00000  int32\n",
      "gt_bbox                  shape: (3, 4)                min:    0.00000  max:  822.00000  int32\n",
      "gt_mask                  shape: (56, 56, 3)           min:    0.00000  max:    1.00000  bool\n",
      "image ID: underwater.6734 (590) \n",
      "Processing 1 images\n",
      "image                    shape: (1024, 1024, 3)       min:    0.00000  max:  253.00000  uint8\n",
      "molded_images            shape: (1, 1024, 1024, 3)    min: -123.70000  max:  149.10000  float64\n",
      "image_metas              shape: (1, 35)               min:    0.00000  max: 1024.00000  int32\n",
      "anchors                  shape: (1, 261888, 4)        min:   -0.35390  max:    1.29134  float32\n"
     ]
    },
    {
     "name": "stderr",
     "output_type": "stream",
     "text": [
      "C:\\Users\\Saad\\Software\\anaconda\\envs\\mrcnnENV\\lib\\site-packages\\skimage\\transform\\_warps.py:830: FutureWarning: Input image dtype is bool. Interpolation is not defined with bool data type. Please set order to 0 or explicitely cast input image to another data type. Starting from version 0.19 a ValueError will be raised instead of this warning.\n",
      "  order = _validate_interpolation_order(image.dtype, order)\n"
     ]
    },
    {
     "name": "stdout",
     "output_type": "stream",
     "text": [
      "gt_class_id              shape: (1,)                  min:   16.00000  max:   16.00000  int32\n",
      "gt_bbox                  shape: (1, 4)                min:  431.00000  max:  572.00000  int32\n",
      "gt_mask                  shape: (56, 56, 1)           min:    0.00000  max:    1.00000  bool\n",
      "image ID: underwater.7140 (996) \n",
      "Processing 1 images\n",
      "image                    shape: (1024, 1024, 3)       min:    0.00000  max:  255.00000  uint8\n",
      "molded_images            shape: (1, 1024, 1024, 3)    min: -123.70000  max:  151.10000  float64\n",
      "image_metas              shape: (1, 35)               min:    0.00000  max: 1024.00000  int32\n",
      "anchors                  shape: (1, 261888, 4)        min:   -0.35390  max:    1.29134  float32\n"
     ]
    },
    {
     "name": "stderr",
     "output_type": "stream",
     "text": [
      "C:\\Users\\Saad\\Software\\anaconda\\envs\\mrcnnENV\\lib\\site-packages\\skimage\\transform\\_warps.py:830: FutureWarning: Input image dtype is bool. Interpolation is not defined with bool data type. Please set order to 0 or explicitely cast input image to another data type. Starting from version 0.19 a ValueError will be raised instead of this warning.\n",
      "  order = _validate_interpolation_order(image.dtype, order)\n"
     ]
    },
    {
     "name": "stdout",
     "output_type": "stream",
     "text": [
      "gt_class_id              shape: (2,)                  min:    1.00000  max:   17.00000  int32\n",
      "gt_bbox                  shape: (2, 4)                min:   70.00000  max: 1024.00000  int32\n",
      "gt_mask                  shape: (56, 56, 2)           min:    0.00000  max:    1.00000  bool\n",
      "image ID: underwater.6660 (516) \n",
      "Processing 1 images\n",
      "image                    shape: (1024, 1024, 3)       min:    0.00000  max:  255.00000  uint8\n",
      "molded_images            shape: (1, 1024, 1024, 3)    min: -123.70000  max:  151.10000  float64\n",
      "image_metas              shape: (1, 35)               min:    0.00000  max: 1024.00000  int32\n"
     ]
    },
    {
     "name": "stderr",
     "output_type": "stream",
     "text": [
      "C:\\Users\\Saad\\Software\\anaconda\\envs\\mrcnnENV\\lib\\site-packages\\skimage\\transform\\_warps.py:830: FutureWarning: Input image dtype is bool. Interpolation is not defined with bool data type. Please set order to 0 or explicitely cast input image to another data type. Starting from version 0.19 a ValueError will be raised instead of this warning.\n",
      "  order = _validate_interpolation_order(image.dtype, order)\n"
     ]
    },
    {
     "name": "stdout",
     "output_type": "stream",
     "text": [
      "anchors                  shape: (1, 261888, 4)        min:   -0.35390  max:    1.29134  float32\n",
      "gt_class_id              shape: (3,)                  min:    1.00000  max:   14.00000  int32\n",
      "gt_bbox                  shape: (3, 4)                min:    2.00000  max:  871.00000  int32\n",
      "gt_mask                  shape: (56, 56, 3)           min:    0.00000  max:    1.00000  bool\n",
      "image ID: underwater.6796 (652) \n",
      "Processing 1 images\n",
      "image                    shape: (1024, 1024, 3)       min:    0.00000  max:  255.00000  uint8\n",
      "molded_images            shape: (1, 1024, 1024, 3)    min: -123.70000  max:  151.10000  float64\n",
      "image_metas              shape: (1, 35)               min:    0.00000  max: 1024.00000  int32\n",
      "anchors                  shape: (1, 261888, 4)        min:   -0.35390  max:    1.29134  float32\n"
     ]
    },
    {
     "name": "stderr",
     "output_type": "stream",
     "text": [
      "C:\\Users\\Saad\\Software\\anaconda\\envs\\mrcnnENV\\lib\\site-packages\\skimage\\transform\\_warps.py:830: FutureWarning: Input image dtype is bool. Interpolation is not defined with bool data type. Please set order to 0 or explicitely cast input image to another data type. Starting from version 0.19 a ValueError will be raised instead of this warning.\n",
      "  order = _validate_interpolation_order(image.dtype, order)\n"
     ]
    },
    {
     "name": "stdout",
     "output_type": "stream",
     "text": [
      "gt_class_id              shape: (2,)                  min:    1.00000  max:   12.00000  int32\n",
      "gt_bbox                  shape: (2, 4)                min:    2.00000  max:  800.00000  int32\n",
      "gt_mask                  shape: (56, 56, 2)           min:    0.00000  max:    1.00000  bool\n",
      "image ID: underwater.6613 (469) \n",
      "Processing 1 images\n",
      "image                    shape: (1024, 1024, 3)       min:    0.00000  max:  255.00000  uint8\n",
      "molded_images            shape: (1, 1024, 1024, 3)    min: -123.70000  max:  151.10000  float64\n",
      "image_metas              shape: (1, 35)               min:    0.00000  max: 1024.00000  int32\n",
      "anchors                  shape: (1, 261888, 4)        min:   -0.35390  max:    1.29134  float32\n"
     ]
    },
    {
     "name": "stderr",
     "output_type": "stream",
     "text": [
      "C:\\Users\\Saad\\Software\\anaconda\\envs\\mrcnnENV\\lib\\site-packages\\skimage\\transform\\_warps.py:830: FutureWarning: Input image dtype is bool. Interpolation is not defined with bool data type. Please set order to 0 or explicitely cast input image to another data type. Starting from version 0.19 a ValueError will be raised instead of this warning.\n",
      "  order = _validate_interpolation_order(image.dtype, order)\n",
      "C:\\Users\\Saad\\Software\\anaconda\\envs\\mrcnnENV\\lib\\site-packages\\ipykernel_launcher.py:8: RuntimeWarning: More than 20 figures have been opened. Figures created through the pyplot interface (`matplotlib.pyplot.figure`) are retained until explicitly closed and may consume too much memory. (To control this warning, see the rcParam `figure.max_open_warning`).\n",
      "  \n"
     ]
    },
    {
     "name": "stdout",
     "output_type": "stream",
     "text": [
      "gt_class_id              shape: (2,)                  min:    1.00000  max:   17.00000  int32\n",
      "gt_bbox                  shape: (2, 4)                min:   64.00000  max: 1024.00000  int32\n",
      "gt_mask                  shape: (56, 56, 2)           min:    0.00000  max:    1.00000  bool\n",
      "image ID: underwater.6157 (13) \n",
      "Processing 1 images\n",
      "image                    shape: (1024, 1024, 3)       min:    0.00000  max:  255.00000  uint8\n",
      "molded_images            shape: (1, 1024, 1024, 3)    min: -123.70000  max:  151.10000  float64\n",
      "image_metas              shape: (1, 35)               min:    0.00000  max: 1024.00000  int32\n",
      "anchors                  shape: (1, 261888, 4)        min:   -0.35390  max:    1.29134  float32\n"
     ]
    },
    {
     "name": "stderr",
     "output_type": "stream",
     "text": [
      "C:\\Users\\Saad\\Software\\anaconda\\envs\\mrcnnENV\\lib\\site-packages\\skimage\\transform\\_warps.py:830: FutureWarning: Input image dtype is bool. Interpolation is not defined with bool data type. Please set order to 0 or explicitely cast input image to another data type. Starting from version 0.19 a ValueError will be raised instead of this warning.\n",
      "  order = _validate_interpolation_order(image.dtype, order)\n"
     ]
    },
    {
     "name": "stdout",
     "output_type": "stream",
     "text": [
      "gt_class_id              shape: (1,)                  min:   12.00000  max:   12.00000  int32\n",
      "gt_bbox                  shape: (1, 4)                min:  454.00000  max:  790.00000  int32\n",
      "gt_mask                  shape: (56, 56, 1)           min:    0.00000  max:    1.00000  bool\n",
      "image ID: underwater.6298 (154) \n",
      "Processing 1 images\n",
      "image                    shape: (1024, 1024, 3)       min:    0.00000  max:  253.00000  uint8\n",
      "molded_images            shape: (1, 1024, 1024, 3)    min: -123.70000  max:  149.10000  float64\n",
      "image_metas              shape: (1, 35)               min:    0.00000  max: 1024.00000  int32\n",
      "anchors                  shape: (1, 261888, 4)        min:   -0.35390  max:    1.29134  float32\n"
     ]
    },
    {
     "name": "stderr",
     "output_type": "stream",
     "text": [
      "C:\\Users\\Saad\\Software\\anaconda\\envs\\mrcnnENV\\lib\\site-packages\\skimage\\transform\\_warps.py:830: FutureWarning: Input image dtype is bool. Interpolation is not defined with bool data type. Please set order to 0 or explicitely cast input image to another data type. Starting from version 0.19 a ValueError will be raised instead of this warning.\n",
      "  order = _validate_interpolation_order(image.dtype, order)\n"
     ]
    },
    {
     "name": "stdout",
     "output_type": "stream",
     "text": [
      "gt_class_id              shape: (2,)                  min:    3.00000  max:   16.00000  int32\n",
      "gt_bbox                  shape: (2, 4)                min:  249.00000  max:  715.00000  int32\n",
      "gt_mask                  shape: (56, 56, 2)           min:    0.00000  max:    1.00000  bool\n",
      "image ID: underwater.7082 (938) \n",
      "Processing 1 images\n",
      "image                    shape: (1024, 1024, 3)       min:    0.00000  max:  254.00000  uint8\n",
      "molded_images            shape: (1, 1024, 1024, 3)    min: -123.70000  max:  150.10000  float64\n",
      "image_metas              shape: (1, 35)               min:    0.00000  max: 1024.00000  int32\n",
      "anchors                  shape: (1, 261888, 4)        min:   -0.35390  max:    1.29134  float32\n"
     ]
    },
    {
     "name": "stderr",
     "output_type": "stream",
     "text": [
      "C:\\Users\\Saad\\Software\\anaconda\\envs\\mrcnnENV\\lib\\site-packages\\skimage\\transform\\_warps.py:830: FutureWarning: Input image dtype is bool. Interpolation is not defined with bool data type. Please set order to 0 or explicitely cast input image to another data type. Starting from version 0.19 a ValueError will be raised instead of this warning.\n",
      "  order = _validate_interpolation_order(image.dtype, order)\n"
     ]
    },
    {
     "name": "stdout",
     "output_type": "stream",
     "text": [
      "\n",
      "*** No instances to display *** \n",
      "\n",
      "gt_class_id              shape: (2,)                  min:    7.00000  max:   12.00000  int32\n",
      "gt_bbox                  shape: (2, 4)                min:  420.00000  max: 1024.00000  int32\n",
      "gt_mask                  shape: (56, 56, 2)           min:    0.00000  max:    1.00000  bool\n",
      "image ID: underwater.6384 (240) \n",
      "Processing 1 images\n",
      "image                    shape: (1024, 1024, 3)       min:    0.00000  max:  255.00000  uint8\n"
     ]
    },
    {
     "name": "stderr",
     "output_type": "stream",
     "text": [
      "C:\\Users\\Saad\\Software\\anaconda\\envs\\mrcnnENV\\lib\\site-packages\\skimage\\transform\\_warps.py:830: FutureWarning: Input image dtype is bool. Interpolation is not defined with bool data type. Please set order to 0 or explicitely cast input image to another data type. Starting from version 0.19 a ValueError will be raised instead of this warning.\n",
      "  order = _validate_interpolation_order(image.dtype, order)\n"
     ]
    },
    {
     "name": "stdout",
     "output_type": "stream",
     "text": [
      "molded_images            shape: (1, 1024, 1024, 3)    min: -123.70000  max:  148.10000  float64\n",
      "image_metas              shape: (1, 35)               min:    0.00000  max: 1024.00000  int32\n",
      "anchors                  shape: (1, 261888, 4)        min:   -0.35390  max:    1.29134  float32\n",
      "gt_class_id              shape: (3,)                  min:    2.00000  max:    4.00000  int32\n",
      "gt_bbox                  shape: (3, 4)                min:    4.00000  max: 1020.00000  int32\n",
      "gt_mask                  shape: (56, 56, 3)           min:    0.00000  max:    1.00000  bool\n",
      "image ID: underwater.6690 (546) \n",
      "Processing 1 images\n",
      "image                    shape: (1024, 1024, 3)       min:    0.00000  max:  255.00000  uint8\n",
      "molded_images            shape: (1, 1024, 1024, 3)    min: -123.70000  max:  150.10000  float64\n",
      "image_metas              shape: (1, 35)               min:    0.00000  max: 1024.00000  int32\n",
      "anchors                  shape: (1, 261888, 4)        min:   -0.35390  max:    1.29134  float32\n"
     ]
    },
    {
     "name": "stderr",
     "output_type": "stream",
     "text": [
      "C:\\Users\\Saad\\Software\\anaconda\\envs\\mrcnnENV\\lib\\site-packages\\skimage\\transform\\_warps.py:830: FutureWarning: Input image dtype is bool. Interpolation is not defined with bool data type. Please set order to 0 or explicitely cast input image to another data type. Starting from version 0.19 a ValueError will be raised instead of this warning.\n",
      "  order = _validate_interpolation_order(image.dtype, order)\n"
     ]
    },
    {
     "name": "stdout",
     "output_type": "stream",
     "text": [
      "gt_class_id              shape: (1,)                  min:   17.00000  max:   17.00000  int32\n",
      "gt_bbox                  shape: (1, 4)                min:  337.00000  max:  775.00000  int32\n",
      "gt_mask                  shape: (56, 56, 1)           min:    0.00000  max:    1.00000  bool\n",
      "image ID: underwater.6764 (620) \n",
      "Processing 1 images\n",
      "image                    shape: (1024, 1024, 3)       min:    0.00000  max:  253.00000  uint8\n",
      "molded_images            shape: (1, 1024, 1024, 3)    min: -123.70000  max:  149.10000  float64\n",
      "image_metas              shape: (1, 35)               min:    0.00000  max: 1024.00000  int32\n",
      "anchors                  shape: (1, 261888, 4)        min:   -0.35390  max:    1.29134  float32\n"
     ]
    },
    {
     "name": "stderr",
     "output_type": "stream",
     "text": [
      "C:\\Users\\Saad\\Software\\anaconda\\envs\\mrcnnENV\\lib\\site-packages\\skimage\\transform\\_warps.py:830: FutureWarning: Input image dtype is bool. Interpolation is not defined with bool data type. Please set order to 0 or explicitely cast input image to another data type. Starting from version 0.19 a ValueError will be raised instead of this warning.\n",
      "  order = _validate_interpolation_order(image.dtype, order)\n"
     ]
    },
    {
     "name": "stdout",
     "output_type": "stream",
     "text": [
      "gt_class_id              shape: (1,)                  min:   12.00000  max:   12.00000  int32\n",
      "gt_bbox                  shape: (1, 4)                min:   87.00000  max:  758.00000  int32\n",
      "gt_mask                  shape: (56, 56, 1)           min:    0.00000  max:    1.00000  bool\n",
      "image ID: underwater.6284 (140) \n",
      "Processing 1 images\n",
      "image                    shape: (1024, 1024, 3)       min:    0.00000  max:  254.00000  uint8\n",
      "molded_images            shape: (1, 1024, 1024, 3)    min: -123.70000  max:  150.10000  float64\n",
      "image_metas              shape: (1, 35)               min:    0.00000  max: 1024.00000  int32\n",
      "anchors                  shape: (1, 261888, 4)        min:   -0.35390  max:    1.29134  float32\n"
     ]
    },
    {
     "name": "stderr",
     "output_type": "stream",
     "text": [
      "C:\\Users\\Saad\\Software\\anaconda\\envs\\mrcnnENV\\lib\\site-packages\\skimage\\transform\\_warps.py:830: FutureWarning: Input image dtype is bool. Interpolation is not defined with bool data type. Please set order to 0 or explicitely cast input image to another data type. Starting from version 0.19 a ValueError will be raised instead of this warning.\n",
      "  order = _validate_interpolation_order(image.dtype, order)\n"
     ]
    },
    {
     "name": "stdout",
     "output_type": "stream",
     "text": [
      "gt_class_id              shape: (1,)                  min:   18.00000  max:   18.00000  int32\n",
      "gt_bbox                  shape: (1, 4)                min:  363.00000  max:  732.00000  int32\n",
      "gt_mask                  shape: (56, 56, 1)           min:    0.00000  max:    1.00000  bool\n",
      "image ID: underwater.6226 (82) \n",
      "Processing 1 images\n",
      "image                    shape: (1024, 1024, 3)       min:    0.00000  max:  255.00000  uint8\n",
      "molded_images            shape: (1, 1024, 1024, 3)    min: -123.70000  max:  151.10000  float64\n",
      "image_metas              shape: (1, 35)               min:    0.00000  max: 1024.00000  int32\n",
      "anchors                  shape: (1, 261888, 4)        min:   -0.35390  max:    1.29134  float32\n"
     ]
    },
    {
     "name": "stderr",
     "output_type": "stream",
     "text": [
      "C:\\Users\\Saad\\Software\\anaconda\\envs\\mrcnnENV\\lib\\site-packages\\skimage\\transform\\_warps.py:830: FutureWarning: Input image dtype is bool. Interpolation is not defined with bool data type. Please set order to 0 or explicitely cast input image to another data type. Starting from version 0.19 a ValueError will be raised instead of this warning.\n",
      "  order = _validate_interpolation_order(image.dtype, order)\n"
     ]
    },
    {
     "name": "stdout",
     "output_type": "stream",
     "text": [
      "gt_class_id              shape: (1,)                  min:    1.00000  max:    1.00000  int32\n",
      "gt_bbox                  shape: (1, 4)                min:  194.00000  max:  922.00000  int32\n",
      "gt_mask                  shape: (56, 56, 1)           min:    0.00000  max:    1.00000  bool\n",
      "image ID: underwater.6574 (430) \n",
      "Processing 1 images\n",
      "image                    shape: (1024, 1024, 3)       min:    0.00000  max:  254.00000  uint8\n",
      "molded_images            shape: (1, 1024, 1024, 3)    min: -123.70000  max:  144.10000  float64\n",
      "image_metas              shape: (1, 35)               min:    0.00000  max: 1024.00000  int32\n",
      "anchors                  shape: (1, 261888, 4)        min:   -0.35390  max:    1.29134  float32\n"
     ]
    },
    {
     "name": "stderr",
     "output_type": "stream",
     "text": [
      "C:\\Users\\Saad\\Software\\anaconda\\envs\\mrcnnENV\\lib\\site-packages\\skimage\\transform\\_warps.py:830: FutureWarning: Input image dtype is bool. Interpolation is not defined with bool data type. Please set order to 0 or explicitely cast input image to another data type. Starting from version 0.19 a ValueError will be raised instead of this warning.\n",
      "  order = _validate_interpolation_order(image.dtype, order)\n"
     ]
    },
    {
     "name": "stdout",
     "output_type": "stream",
     "text": [
      "gt_class_id              shape: (1,)                  min:   17.00000  max:   17.00000  int32\n",
      "gt_bbox                  shape: (1, 4)                min:    0.00000  max:  800.00000  int32\n",
      "gt_mask                  shape: (56, 56, 1)           min:    0.00000  max:    1.00000  bool\n",
      "image ID: underwater.6113 (1116) \n",
      "Processing 1 images\n",
      "image                    shape: (1024, 1024, 3)       min:    0.00000  max:  255.00000  uint8\n",
      "molded_images            shape: (1, 1024, 1024, 3)    min: -123.70000  max:  151.10000  float64\n",
      "image_metas              shape: (1, 35)               min:    0.00000  max: 1024.00000  int32\n",
      "anchors                  shape: (1, 261888, 4)        min:   -0.35390  max:    1.29134  float32\n"
     ]
    },
    {
     "name": "stderr",
     "output_type": "stream",
     "text": [
      "C:\\Users\\Saad\\Software\\anaconda\\envs\\mrcnnENV\\lib\\site-packages\\skimage\\transform\\_warps.py:830: FutureWarning: Input image dtype is bool. Interpolation is not defined with bool data type. Please set order to 0 or explicitely cast input image to another data type. Starting from version 0.19 a ValueError will be raised instead of this warning.\n",
      "  order = _validate_interpolation_order(image.dtype, order)\n"
     ]
    },
    {
     "name": "stdout",
     "output_type": "stream",
     "text": [
      "gt_class_id              shape: (3,)                  min:    1.00000  max:   15.00000  int32\n",
      "gt_bbox                  shape: (3, 4)                min:   12.00000  max:  924.00000  int32\n",
      "gt_mask                  shape: (56, 56, 3)           min:    0.00000  max:    1.00000  bool\n",
      "image ID: underwater.6769 (625) \n",
      "Processing 1 images\n",
      "image                    shape: (1024, 1024, 3)       min:    0.00000  max:  252.00000  uint8\n",
      "molded_images            shape: (1, 1024, 1024, 3)    min: -123.70000  max:  148.10000  float64\n",
      "image_metas              shape: (1, 35)               min:    0.00000  max: 1024.00000  int32\n",
      "anchors                  shape: (1, 261888, 4)        min:   -0.35390  max:    1.29134  float32\n"
     ]
    },
    {
     "name": "stderr",
     "output_type": "stream",
     "text": [
      "C:\\Users\\Saad\\Software\\anaconda\\envs\\mrcnnENV\\lib\\site-packages\\skimage\\transform\\_warps.py:830: FutureWarning: Input image dtype is bool. Interpolation is not defined with bool data type. Please set order to 0 or explicitely cast input image to another data type. Starting from version 0.19 a ValueError will be raised instead of this warning.\n",
      "  order = _validate_interpolation_order(image.dtype, order)\n"
     ]
    },
    {
     "name": "stdout",
     "output_type": "stream",
     "text": [
      "gt_class_id              shape: (3,)                  min:    1.00000  max:   17.00000  int32\n",
      "gt_bbox                  shape: (3, 4)                min:  239.00000  max: 1024.00000  int32\n",
      "gt_mask                  shape: (56, 56, 3)           min:    0.00000  max:    1.00000  bool\n",
      "image ID: underwater.7149 (1005) \n",
      "Processing 1 images\n",
      "image                    shape: (1024, 1024, 3)       min:    0.00000  max:  254.00000  uint8\n",
      "molded_images            shape: (1, 1024, 1024, 3)    min: -123.70000  max:  150.10000  float64\n",
      "image_metas              shape: (1, 35)               min:    0.00000  max: 1024.00000  int32\n",
      "anchors                  shape: (1, 261888, 4)        min:   -0.35390  max:    1.29134  float32\n"
     ]
    },
    {
     "name": "stderr",
     "output_type": "stream",
     "text": [
      "C:\\Users\\Saad\\Software\\anaconda\\envs\\mrcnnENV\\lib\\site-packages\\skimage\\transform\\_warps.py:830: FutureWarning: Input image dtype is bool. Interpolation is not defined with bool data type. Please set order to 0 or explicitely cast input image to another data type. Starting from version 0.19 a ValueError will be raised instead of this warning.\n",
      "  order = _validate_interpolation_order(image.dtype, order)\n"
     ]
    },
    {
     "name": "stdout",
     "output_type": "stream",
     "text": [
      "gt_class_id              shape: (2,)                  min:    8.00000  max:   17.00000  int32\n",
      "gt_bbox                  shape: (2, 4)                min:  495.00000  max:  758.00000  int32\n",
      "gt_mask                  shape: (56, 56, 2)           min:    0.00000  max:    1.00000  bool\n",
      "image ID: underwater.6638 (494) \n",
      "Processing 1 images\n",
      "image                    shape: (1024, 1024, 3)       min:    0.00000  max:  255.00000  uint8\n",
      "molded_images            shape: (1, 1024, 1024, 3)    min: -123.70000  max:  151.10000  float64\n",
      "image_metas              shape: (1, 35)               min:    0.00000  max: 1024.00000  int32\n",
      "anchors                  shape: (1, 261888, 4)        min:   -0.35390  max:    1.29134  float32\n"
     ]
    },
    {
     "name": "stderr",
     "output_type": "stream",
     "text": [
      "C:\\Users\\Saad\\Software\\anaconda\\envs\\mrcnnENV\\lib\\site-packages\\skimage\\transform\\_warps.py:830: FutureWarning: Input image dtype is bool. Interpolation is not defined with bool data type. Please set order to 0 or explicitely cast input image to another data type. Starting from version 0.19 a ValueError will be raised instead of this warning.\n",
      "  order = _validate_interpolation_order(image.dtype, order)\n"
     ]
    },
    {
     "name": "stdout",
     "output_type": "stream",
     "text": [
      "gt_class_id              shape: (1,)                  min:    1.00000  max:    1.00000  int32\n",
      "gt_bbox                  shape: (1, 4)                min:    0.00000  max:  800.00000  int32\n",
      "gt_mask                  shape: (56, 56, 1)           min:    0.00000  max:    1.00000  bool\n",
      "image ID: underwater.7039 (895) \n",
      "Processing 1 images\n",
      "image                    shape: (1024, 1024, 3)       min:    0.00000  max:  255.00000  uint8\n",
      "molded_images            shape: (1, 1024, 1024, 3)    min: -123.70000  max:  151.10000  float64\n",
      "image_metas              shape: (1, 35)               min:    0.00000  max: 1024.00000  int32\n",
      "anchors                  shape: (1, 261888, 4)        min:   -0.35390  max:    1.29134  float32\n"
     ]
    },
    {
     "name": "stderr",
     "output_type": "stream",
     "text": [
      "C:\\Users\\Saad\\Software\\anaconda\\envs\\mrcnnENV\\lib\\site-packages\\skimage\\transform\\_warps.py:830: FutureWarning: Input image dtype is bool. Interpolation is not defined with bool data type. Please set order to 0 or explicitely cast input image to another data type. Starting from version 0.19 a ValueError will be raised instead of this warning.\n",
      "  order = _validate_interpolation_order(image.dtype, order)\n"
     ]
    },
    {
     "name": "stdout",
     "output_type": "stream",
     "text": [
      "gt_class_id              shape: (1,)                  min:   21.00000  max:   21.00000  int32\n",
      "gt_bbox                  shape: (1, 4)                min:    6.00000  max:  732.00000  int32\n",
      "gt_mask                  shape: (56, 56, 1)           min:    0.00000  max:    1.00000  bool\n",
      "image ID: underwater.6688 (544) \n",
      "Processing 1 images\n",
      "image                    shape: (1024, 1024, 3)       min:    0.00000  max:  255.00000  uint8\n",
      "molded_images            shape: (1, 1024, 1024, 3)    min: -123.70000  max:  151.10000  float64\n",
      "image_metas              shape: (1, 35)               min:    0.00000  max: 1024.00000  int32\n",
      "anchors                  shape: (1, 261888, 4)        min:   -0.35390  max:    1.29134  float32\n"
     ]
    },
    {
     "name": "stderr",
     "output_type": "stream",
     "text": [
      "C:\\Users\\Saad\\Software\\anaconda\\envs\\mrcnnENV\\lib\\site-packages\\skimage\\transform\\_warps.py:830: FutureWarning: Input image dtype is bool. Interpolation is not defined with bool data type. Please set order to 0 or explicitely cast input image to another data type. Starting from version 0.19 a ValueError will be raised instead of this warning.\n",
      "  order = _validate_interpolation_order(image.dtype, order)\n"
     ]
    },
    {
     "name": "stdout",
     "output_type": "stream",
     "text": [
      "gt_class_id              shape: (1,)                  min:   14.00000  max:   14.00000  int32\n",
      "gt_bbox                  shape: (1, 4)                min:  170.00000  max:  595.00000  int32\n",
      "gt_mask                  shape: (56, 56, 1)           min:    0.00000  max:    1.00000  bool\n"
     ]
    },
    {
     "name": "stderr",
     "output_type": "stream",
     "text": [
      "C:\\Users\\Saad\\Software\\anaconda\\envs\\mrcnnENV\\lib\\site-packages\\skimage\\transform\\_warps.py:830: FutureWarning: Input image dtype is bool. Interpolation is not defined with bool data type. Please set order to 0 or explicitely cast input image to another data type. Starting from version 0.19 a ValueError will be raised instead of this warning.\n",
      "  order = _validate_interpolation_order(image.dtype, order)\n"
     ]
    },
    {
     "name": "stdout",
     "output_type": "stream",
     "text": [
      "image ID: underwater.6517 (373) \n",
      "Processing 1 images\n",
      "image                    shape: (1024, 1024, 3)       min:    0.00000  max:  254.00000  uint8\n",
      "molded_images            shape: (1, 1024, 1024, 3)    min: -123.70000  max:  150.10000  float64\n",
      "image_metas              shape: (1, 35)               min:    0.00000  max: 1024.00000  int32\n",
      "anchors                  shape: (1, 261888, 4)        min:   -0.35390  max:    1.29134  float32\n",
      "gt_class_id              shape: (10,)                 min:    4.00000  max:   22.00000  int32\n",
      "gt_bbox                  shape: (10, 4)               min:   44.00000  max: 1024.00000  int32\n",
      "gt_mask                  shape: (56, 56, 10)          min:    0.00000  max:    1.00000  bool\n",
      "image ID: underwater.7073 (929) \n",
      "Processing 1 images\n",
      "image                    shape: (1024, 1024, 3)       min:    0.00000  max:  255.00000  uint8\n",
      "molded_images            shape: (1, 1024, 1024, 3)    min: -123.70000  max:  151.10000  float64\n",
      "image_metas              shape: (1, 35)               min:    0.00000  max: 1024.00000  int32\n"
     ]
    },
    {
     "name": "stderr",
     "output_type": "stream",
     "text": [
      "C:\\Users\\Saad\\Software\\anaconda\\envs\\mrcnnENV\\lib\\site-packages\\skimage\\transform\\_warps.py:830: FutureWarning: Input image dtype is bool. Interpolation is not defined with bool data type. Please set order to 0 or explicitely cast input image to another data type. Starting from version 0.19 a ValueError will be raised instead of this warning.\n",
      "  order = _validate_interpolation_order(image.dtype, order)\n"
     ]
    },
    {
     "name": "stdout",
     "output_type": "stream",
     "text": [
      "anchors                  shape: (1, 261888, 4)        min:   -0.35390  max:    1.29134  float32\n",
      "gt_class_id              shape: (3,)                  min:    1.00000  max:   14.00000  int32\n",
      "gt_bbox                  shape: (3, 4)                min:    4.00000  max: 1024.00000  int32\n",
      "gt_mask                  shape: (56, 56, 3)           min:    0.00000  max:    1.00000  bool\n",
      "image ID: underwater.6251 (107) \n",
      "Processing 1 images\n",
      "image                    shape: (1024, 1024, 3)       min:    0.00000  max:  254.00000  uint8\n",
      "molded_images            shape: (1, 1024, 1024, 3)    min: -123.70000  max:  147.10000  float64\n",
      "image_metas              shape: (1, 35)               min:    0.00000  max: 1024.00000  int32\n",
      "anchors                  shape: (1, 261888, 4)        min:   -0.35390  max:    1.29134  float32\n"
     ]
    },
    {
     "name": "stderr",
     "output_type": "stream",
     "text": [
      "C:\\Users\\Saad\\Software\\anaconda\\envs\\mrcnnENV\\lib\\site-packages\\skimage\\transform\\_warps.py:830: FutureWarning: Input image dtype is bool. Interpolation is not defined with bool data type. Please set order to 0 or explicitely cast input image to another data type. Starting from version 0.19 a ValueError will be raised instead of this warning.\n",
      "  order = _validate_interpolation_order(image.dtype, order)\n"
     ]
    },
    {
     "name": "stdout",
     "output_type": "stream",
     "text": [
      "\n",
      "*** No instances to display *** \n",
      "\n",
      "gt_class_id              shape: (2,)                  min:    2.00000  max:   14.00000  int32\n",
      "gt_bbox                  shape: (2, 4)                min:  446.00000  max:  642.00000  int32\n",
      "gt_mask                  shape: (56, 56, 2)           min:    0.00000  max:    1.00000  bool\n",
      "image ID: underwater.7129 (985) \n",
      "Processing 1 images\n",
      "image                    shape: (1024, 1024, 3)       min:    0.00000  max:  255.00000  uint8\n",
      "molded_images            shape: (1, 1024, 1024, 3)    min: -123.70000  max:  148.10000  float64\n",
      "image_metas              shape: (1, 35)               min:    0.00000  max: 1024.00000  int32\n",
      "anchors                  shape: (1, 261888, 4)        min:   -0.35390  max:    1.29134  float32\n"
     ]
    },
    {
     "name": "stderr",
     "output_type": "stream",
     "text": [
      "C:\\Users\\Saad\\Software\\anaconda\\envs\\mrcnnENV\\lib\\site-packages\\skimage\\transform\\_warps.py:830: FutureWarning: Input image dtype is bool. Interpolation is not defined with bool data type. Please set order to 0 or explicitely cast input image to another data type. Starting from version 0.19 a ValueError will be raised instead of this warning.\n",
      "  order = _validate_interpolation_order(image.dtype, order)\n"
     ]
    },
    {
     "name": "stdout",
     "output_type": "stream",
     "text": [
      "gt_class_id              shape: (2,)                  min:    1.00000  max:   17.00000  int32\n",
      "gt_bbox                  shape: (2, 4)                min:    0.00000  max:  800.00000  int32\n",
      "gt_mask                  shape: (56, 56, 2)           min:    0.00000  max:    1.00000  bool\n",
      "image ID: underwater.6121 (1124) \n",
      "Processing 1 images\n",
      "image                    shape: (1024, 1024, 3)       min:    0.00000  max:  255.00000  uint8\n",
      "molded_images            shape: (1, 1024, 1024, 3)    min: -123.70000  max:  151.10000  float64\n",
      "image_metas              shape: (1, 35)               min:    0.00000  max: 1024.00000  int32\n",
      "anchors                  shape: (1, 261888, 4)        min:   -0.35390  max:    1.29134  float32\n"
     ]
    },
    {
     "name": "stderr",
     "output_type": "stream",
     "text": [
      "C:\\Users\\Saad\\Software\\anaconda\\envs\\mrcnnENV\\lib\\site-packages\\skimage\\transform\\_warps.py:830: FutureWarning: Input image dtype is bool. Interpolation is not defined with bool data type. Please set order to 0 or explicitely cast input image to another data type. Starting from version 0.19 a ValueError will be raised instead of this warning.\n",
      "  order = _validate_interpolation_order(image.dtype, order)\n"
     ]
    },
    {
     "name": "stdout",
     "output_type": "stream",
     "text": [
      "gt_class_id              shape: (4,)                  min:    1.00000  max:   12.00000  int32\n",
      "gt_bbox                  shape: (4, 4)                min:  125.00000  max: 1024.00000  int32\n",
      "gt_mask                  shape: (56, 56, 4)           min:    0.00000  max:    1.00000  bool\n",
      "image ID: underwater.6740 (596) \n",
      "Processing 1 images\n",
      "image                    shape: (1024, 1024, 3)       min:    0.00000  max:  253.00000  uint8\n",
      "molded_images            shape: (1, 1024, 1024, 3)    min: -123.70000  max:  149.10000  float64\n",
      "image_metas              shape: (1, 35)               min:    0.00000  max: 1024.00000  int32\n",
      "anchors                  shape: (1, 261888, 4)        min:   -0.35390  max:    1.29134  float32\n"
     ]
    },
    {
     "name": "stderr",
     "output_type": "stream",
     "text": [
      "C:\\Users\\Saad\\Software\\anaconda\\envs\\mrcnnENV\\lib\\site-packages\\skimage\\transform\\_warps.py:830: FutureWarning: Input image dtype is bool. Interpolation is not defined with bool data type. Please set order to 0 or explicitely cast input image to another data type. Starting from version 0.19 a ValueError will be raised instead of this warning.\n",
      "  order = _validate_interpolation_order(image.dtype, order)\n"
     ]
    },
    {
     "name": "stdout",
     "output_type": "stream",
     "text": [
      "\n",
      "*** No instances to display *** \n",
      "\n",
      "gt_class_id              shape: (1,)                  min:    3.00000  max:    3.00000  int32\n",
      "gt_bbox                  shape: (1, 4)                min:  348.00000  max:  679.00000  int32\n",
      "gt_mask                  shape: (56, 56, 1)           min:    0.00000  max:    1.00000  bool\n",
      "image ID: underwater.6282 (138) \n",
      "Processing 1 images\n",
      "image                    shape: (1024, 1024, 3)       min:    0.00000  max:  254.00000  uint8\n",
      "molded_images            shape: (1, 1024, 1024, 3)    min: -123.70000  max:  142.10000  float64\n",
      "image_metas              shape: (1, 35)               min:    0.00000  max: 1024.00000  int32\n",
      "anchors                  shape: (1, 261888, 4)        min:   -0.35390  max:    1.29134  float32\n"
     ]
    },
    {
     "name": "stderr",
     "output_type": "stream",
     "text": [
      "C:\\Users\\Saad\\Software\\anaconda\\envs\\mrcnnENV\\lib\\site-packages\\skimage\\transform\\_warps.py:830: FutureWarning: Input image dtype is bool. Interpolation is not defined with bool data type. Please set order to 0 or explicitely cast input image to another data type. Starting from version 0.19 a ValueError will be raised instead of this warning.\n",
      "  order = _validate_interpolation_order(image.dtype, order)\n"
     ]
    },
    {
     "name": "stdout",
     "output_type": "stream",
     "text": [
      "gt_class_id              shape: (1,)                  min:   17.00000  max:   17.00000  int32\n",
      "gt_bbox                  shape: (1, 4)                min:  175.00000  max:  698.00000  int32\n",
      "gt_mask                  shape: (56, 56, 1)           min:    0.00000  max:    1.00000  bool\n",
      "image ID: underwater.6365 (221) \n",
      "Processing 1 images\n",
      "image                    shape: (1024, 1024, 3)       min:    0.00000  max:  254.00000  uint8\n",
      "molded_images            shape: (1, 1024, 1024, 3)    min: -123.70000  max:  150.10000  float64\n",
      "image_metas              shape: (1, 35)               min:    0.00000  max: 1024.00000  int32\n",
      "anchors                  shape: (1, 261888, 4)        min:   -0.35390  max:    1.29134  float32\n"
     ]
    },
    {
     "name": "stderr",
     "output_type": "stream",
     "text": [
      "C:\\Users\\Saad\\Software\\anaconda\\envs\\mrcnnENV\\lib\\site-packages\\skimage\\transform\\_warps.py:830: FutureWarning: Input image dtype is bool. Interpolation is not defined with bool data type. Please set order to 0 or explicitely cast input image to another data type. Starting from version 0.19 a ValueError will be raised instead of this warning.\n",
      "  order = _validate_interpolation_order(image.dtype, order)\n"
     ]
    },
    {
     "name": "stdout",
     "output_type": "stream",
     "text": [
      "\n",
      "*** No instances to display *** \n",
      "\n",
      "gt_class_id              shape: (1,)                  min:   17.00000  max:   17.00000  int32\n",
      "gt_bbox                  shape: (1, 4)                min:  330.00000  max:  501.00000  int32\n",
      "gt_mask                  shape: (56, 56, 1)           min:    0.00000  max:    1.00000  bool\n",
      "image ID: underwater.6898 (754) \n",
      "Processing 1 images\n",
      "image                    shape: (1024, 1024, 3)       min:    0.00000  max:  253.00000  uint8\n",
      "molded_images            shape: (1, 1024, 1024, 3)    min: -123.70000  max:  148.10000  float64\n",
      "image_metas              shape: (1, 35)               min:    0.00000  max: 1024.00000  int32\n",
      "anchors                  shape: (1, 261888, 4)        min:   -0.35390  max:    1.29134  float32\n"
     ]
    },
    {
     "name": "stderr",
     "output_type": "stream",
     "text": [
      "C:\\Users\\Saad\\Software\\anaconda\\envs\\mrcnnENV\\lib\\site-packages\\skimage\\transform\\_warps.py:830: FutureWarning: Input image dtype is bool. Interpolation is not defined with bool data type. Please set order to 0 or explicitely cast input image to another data type. Starting from version 0.19 a ValueError will be raised instead of this warning.\n",
      "  order = _validate_interpolation_order(image.dtype, order)\n"
     ]
    },
    {
     "name": "stdout",
     "output_type": "stream",
     "text": [
      "gt_class_id              shape: (2,)                  min:    2.00000  max:   17.00000  int32\n",
      "gt_bbox                  shape: (2, 4)                min:  316.00000  max:  788.00000  int32\n",
      "gt_mask                  shape: (56, 56, 2)           min:    0.00000  max:    1.00000  bool\n",
      "image ID: underwater.6875 (731) \n",
      "Processing 1 images\n",
      "image                    shape: (1024, 1024, 3)       min:    0.00000  max:  255.00000  uint8\n",
      "molded_images            shape: (1, 1024, 1024, 3)    min: -123.70000  max:  151.10000  float64\n",
      "image_metas              shape: (1, 35)               min:    0.00000  max: 1024.00000  int32\n",
      "anchors                  shape: (1, 261888, 4)        min:   -0.35390  max:    1.29134  float32\n"
     ]
    },
    {
     "name": "stderr",
     "output_type": "stream",
     "text": [
      "C:\\Users\\Saad\\Software\\anaconda\\envs\\mrcnnENV\\lib\\site-packages\\skimage\\transform\\_warps.py:830: FutureWarning: Input image dtype is bool. Interpolation is not defined with bool data type. Please set order to 0 or explicitely cast input image to another data type. Starting from version 0.19 a ValueError will be raised instead of this warning.\n",
      "  order = _validate_interpolation_order(image.dtype, order)\n"
     ]
    },
    {
     "name": "stdout",
     "output_type": "stream",
     "text": [
      "gt_class_id              shape: (2,)                  min:    1.00000  max:   18.00000  int32\n",
      "gt_bbox                  shape: (2, 4)                min:    0.00000  max: 1024.00000  int32\n",
      "gt_mask                  shape: (56, 56, 2)           min:    0.00000  max:    1.00000  bool\n",
      "image ID: underwater.7193 (1049) \n",
      "Processing 1 images\n",
      "image                    shape: (1024, 1024, 3)       min:    0.00000  max:  253.00000  uint8\n",
      "molded_images            shape: (1, 1024, 1024, 3)    min: -123.70000  max:  148.10000  float64\n",
      "image_metas              shape: (1, 35)               min:    0.00000  max: 1024.00000  int32\n"
     ]
    },
    {
     "name": "stderr",
     "output_type": "stream",
     "text": [
      "C:\\Users\\Saad\\Software\\anaconda\\envs\\mrcnnENV\\lib\\site-packages\\skimage\\transform\\_warps.py:830: FutureWarning: Input image dtype is bool. Interpolation is not defined with bool data type. Please set order to 0 or explicitely cast input image to another data type. Starting from version 0.19 a ValueError will be raised instead of this warning.\n",
      "  order = _validate_interpolation_order(image.dtype, order)\n"
     ]
    },
    {
     "name": "stdout",
     "output_type": "stream",
     "text": [
      "anchors                  shape: (1, 261888, 4)        min:   -0.35390  max:    1.29134  float32\n",
      "gt_class_id              shape: (3,)                  min:    1.00000  max:   17.00000  int32\n",
      "gt_bbox                  shape: (3, 4)                min:  143.00000  max: 1024.00000  int32\n",
      "gt_mask                  shape: (56, 56, 3)           min:    0.00000  max:    1.00000  bool\n",
      "image ID: underwater.6146 (2) \n",
      "Processing 1 images\n",
      "image                    shape: (1024, 1024, 3)       min:    0.00000  max:  255.00000  uint8\n",
      "molded_images            shape: (1, 1024, 1024, 3)    min: -123.70000  max:  151.10000  float64\n",
      "image_metas              shape: (1, 35)               min:    0.00000  max: 1024.00000  int32\n",
      "anchors                  shape: (1, 261888, 4)        min:   -0.35390  max:    1.29134  float32\n"
     ]
    },
    {
     "name": "stderr",
     "output_type": "stream",
     "text": [
      "C:\\Users\\Saad\\Software\\anaconda\\envs\\mrcnnENV\\lib\\site-packages\\skimage\\transform\\_warps.py:830: FutureWarning: Input image dtype is bool. Interpolation is not defined with bool data type. Please set order to 0 or explicitely cast input image to another data type. Starting from version 0.19 a ValueError will be raised instead of this warning.\n",
      "  order = _validate_interpolation_order(image.dtype, order)\n"
     ]
    },
    {
     "name": "stdout",
     "output_type": "stream",
     "text": [
      "gt_class_id              shape: (3,)                  min:    1.00000  max:   17.00000  int32\n",
      "gt_bbox                  shape: (3, 4)                min:  345.00000  max: 1024.00000  int32\n",
      "gt_mask                  shape: (56, 56, 3)           min:    0.00000  max:    1.00000  bool\n",
      "image ID: underwater.6800 (656) \n",
      "Processing 1 images\n",
      "image                    shape: (1024, 1024, 3)       min:    0.00000  max:  255.00000  uint8\n",
      "molded_images            shape: (1, 1024, 1024, 3)    min: -123.70000  max:  151.10000  float64\n",
      "image_metas              shape: (1, 35)               min:    0.00000  max: 1024.00000  int32\n",
      "anchors                  shape: (1, 261888, 4)        min:   -0.35390  max:    1.29134  float32\n"
     ]
    },
    {
     "name": "stderr",
     "output_type": "stream",
     "text": [
      "C:\\Users\\Saad\\Software\\anaconda\\envs\\mrcnnENV\\lib\\site-packages\\skimage\\transform\\_warps.py:830: FutureWarning: Input image dtype is bool. Interpolation is not defined with bool data type. Please set order to 0 or explicitely cast input image to another data type. Starting from version 0.19 a ValueError will be raised instead of this warning.\n",
      "  order = _validate_interpolation_order(image.dtype, order)\n"
     ]
    },
    {
     "name": "stdout",
     "output_type": "stream",
     "text": [
      "gt_class_id              shape: (3,)                  min:    1.00000  max:   17.00000  int32\n",
      "gt_bbox                  shape: (3, 4)                min:    2.00000  max:  800.00000  int32\n",
      "gt_mask                  shape: (56, 56, 3)           min:    0.00000  max:    1.00000  bool\n",
      "image ID: underwater.6625 (481) \n",
      "Processing 1 images\n",
      "image                    shape: (1024, 1024, 3)       min:    0.00000  max:  255.00000  uint8\n",
      "molded_images            shape: (1, 1024, 1024, 3)    min: -123.70000  max:  138.20000  float64\n",
      "image_metas              shape: (1, 35)               min:    0.00000  max: 1024.00000  int32\n",
      "anchors                  shape: (1, 261888, 4)        min:   -0.35390  max:    1.29134  float32\n"
     ]
    },
    {
     "name": "stderr",
     "output_type": "stream",
     "text": [
      "C:\\Users\\Saad\\Software\\anaconda\\envs\\mrcnnENV\\lib\\site-packages\\skimage\\transform\\_warps.py:830: FutureWarning: Input image dtype is bool. Interpolation is not defined with bool data type. Please set order to 0 or explicitely cast input image to another data type. Starting from version 0.19 a ValueError will be raised instead of this warning.\n",
      "  order = _validate_interpolation_order(image.dtype, order)\n"
     ]
    },
    {
     "name": "stdout",
     "output_type": "stream",
     "text": [
      "gt_class_id              shape: (1,)                  min:   12.00000  max:   12.00000  int32\n",
      "gt_bbox                  shape: (1, 4)                min:   40.00000  max:  943.00000  int32\n",
      "gt_mask                  shape: (56, 56, 1)           min:    0.00000  max:    1.00000  bool\n",
      "Error in callback <function flush_figures at 0x0000024341233048> (for post_execute):\n"
     ]
    },
    {
     "ename": "KeyboardInterrupt",
     "evalue": "",
     "output_type": "error",
     "traceback": [
      "\u001b[1;31m---------------------------------------------------------------------------\u001b[0m",
      "\u001b[1;31mAttributeError\u001b[0m                            Traceback (most recent call last)",
      "\u001b[1;32m~\\Software\\anaconda\\envs\\mrcnnENV\\lib\\site-packages\\PIL\\ImageFile.py\u001b[0m in \u001b[0;36m_save\u001b[1;34m(im, fp, tile, bufsize)\u001b[0m\n\u001b[0;32m    503\u001b[0m     \u001b[1;32mtry\u001b[0m\u001b[1;33m:\u001b[0m\u001b[1;33m\u001b[0m\u001b[0m\n\u001b[1;32m--> 504\u001b[1;33m         \u001b[0mfh\u001b[0m \u001b[1;33m=\u001b[0m \u001b[0mfp\u001b[0m\u001b[1;33m.\u001b[0m\u001b[0mfileno\u001b[0m\u001b[1;33m(\u001b[0m\u001b[1;33m)\u001b[0m\u001b[1;33m\u001b[0m\u001b[0m\n\u001b[0m\u001b[0;32m    505\u001b[0m         \u001b[0mfp\u001b[0m\u001b[1;33m.\u001b[0m\u001b[0mflush\u001b[0m\u001b[1;33m(\u001b[0m\u001b[1;33m)\u001b[0m\u001b[1;33m\u001b[0m\u001b[0m\n",
      "\u001b[1;31mAttributeError\u001b[0m: '_idat' object has no attribute 'fileno'",
      "\nDuring handling of the above exception, another exception occurred:\n",
      "\u001b[1;31mKeyboardInterrupt\u001b[0m                         Traceback (most recent call last)",
      "\u001b[1;32m~\\Software\\anaconda\\envs\\mrcnnENV\\lib\\site-packages\\matplotlib_inline\\backend_inline.py\u001b[0m in \u001b[0;36mflush_figures\u001b[1;34m()\u001b[0m\n\u001b[0;32m    119\u001b[0m         \u001b[1;31m# ignore the tracking, just draw and close all figures\u001b[0m\u001b[1;33m\u001b[0m\u001b[1;33m\u001b[0m\u001b[0m\n\u001b[0;32m    120\u001b[0m         \u001b[1;32mtry\u001b[0m\u001b[1;33m:\u001b[0m\u001b[1;33m\u001b[0m\u001b[0m\n\u001b[1;32m--> 121\u001b[1;33m             \u001b[1;32mreturn\u001b[0m \u001b[0mshow\u001b[0m\u001b[1;33m(\u001b[0m\u001b[1;32mTrue\u001b[0m\u001b[1;33m)\u001b[0m\u001b[1;33m\u001b[0m\u001b[0m\n\u001b[0m\u001b[0;32m    122\u001b[0m         \u001b[1;32mexcept\u001b[0m \u001b[0mException\u001b[0m \u001b[1;32mas\u001b[0m \u001b[0me\u001b[0m\u001b[1;33m:\u001b[0m\u001b[1;33m\u001b[0m\u001b[0m\n\u001b[0;32m    123\u001b[0m             \u001b[1;31m# safely show traceback if in IPython, else raise\u001b[0m\u001b[1;33m\u001b[0m\u001b[1;33m\u001b[0m\u001b[0m\n",
      "\u001b[1;32m~\\Software\\anaconda\\envs\\mrcnnENV\\lib\\site-packages\\matplotlib_inline\\backend_inline.py\u001b[0m in \u001b[0;36mshow\u001b[1;34m(close, block)\u001b[0m\n\u001b[0;32m     41\u001b[0m             display(\n\u001b[0;32m     42\u001b[0m                 \u001b[0mfigure_manager\u001b[0m\u001b[1;33m.\u001b[0m\u001b[0mcanvas\u001b[0m\u001b[1;33m.\u001b[0m\u001b[0mfigure\u001b[0m\u001b[1;33m,\u001b[0m\u001b[1;33m\u001b[0m\u001b[0m\n\u001b[1;32m---> 43\u001b[1;33m                 \u001b[0mmetadata\u001b[0m\u001b[1;33m=\u001b[0m\u001b[0m_fetch_figure_metadata\u001b[0m\u001b[1;33m(\u001b[0m\u001b[0mfigure_manager\u001b[0m\u001b[1;33m.\u001b[0m\u001b[0mcanvas\u001b[0m\u001b[1;33m.\u001b[0m\u001b[0mfigure\u001b[0m\u001b[1;33m)\u001b[0m\u001b[1;33m\u001b[0m\u001b[0m\n\u001b[0m\u001b[0;32m     44\u001b[0m             )\n\u001b[0;32m     45\u001b[0m     \u001b[1;32mfinally\u001b[0m\u001b[1;33m:\u001b[0m\u001b[1;33m\u001b[0m\u001b[0m\n",
      "\u001b[1;32m~\\Software\\anaconda\\envs\\mrcnnENV\\lib\\site-packages\\IPython\\core\\display.py\u001b[0m in \u001b[0;36mdisplay\u001b[1;34m(include, exclude, metadata, transient, display_id, *objs, **kwargs)\u001b[0m\n\u001b[0;32m    318\u001b[0m             \u001b[0mpublish_display_data\u001b[0m\u001b[1;33m(\u001b[0m\u001b[0mdata\u001b[0m\u001b[1;33m=\u001b[0m\u001b[0mobj\u001b[0m\u001b[1;33m,\u001b[0m \u001b[0mmetadata\u001b[0m\u001b[1;33m=\u001b[0m\u001b[0mmetadata\u001b[0m\u001b[1;33m,\u001b[0m \u001b[1;33m**\u001b[0m\u001b[0mkwargs\u001b[0m\u001b[1;33m)\u001b[0m\u001b[1;33m\u001b[0m\u001b[0m\n\u001b[0;32m    319\u001b[0m         \u001b[1;32melse\u001b[0m\u001b[1;33m:\u001b[0m\u001b[1;33m\u001b[0m\u001b[0m\n\u001b[1;32m--> 320\u001b[1;33m             \u001b[0mformat_dict\u001b[0m\u001b[1;33m,\u001b[0m \u001b[0mmd_dict\u001b[0m \u001b[1;33m=\u001b[0m \u001b[0mformat\u001b[0m\u001b[1;33m(\u001b[0m\u001b[0mobj\u001b[0m\u001b[1;33m,\u001b[0m \u001b[0minclude\u001b[0m\u001b[1;33m=\u001b[0m\u001b[0minclude\u001b[0m\u001b[1;33m,\u001b[0m \u001b[0mexclude\u001b[0m\u001b[1;33m=\u001b[0m\u001b[0mexclude\u001b[0m\u001b[1;33m)\u001b[0m\u001b[1;33m\u001b[0m\u001b[0m\n\u001b[0m\u001b[0;32m    321\u001b[0m             \u001b[1;32mif\u001b[0m \u001b[1;32mnot\u001b[0m \u001b[0mformat_dict\u001b[0m\u001b[1;33m:\u001b[0m\u001b[1;33m\u001b[0m\u001b[0m\n\u001b[0;32m    322\u001b[0m                 \u001b[1;31m# nothing to display (e.g. _ipython_display_ took over)\u001b[0m\u001b[1;33m\u001b[0m\u001b[1;33m\u001b[0m\u001b[0m\n",
      "\u001b[1;32m~\\Software\\anaconda\\envs\\mrcnnENV\\lib\\site-packages\\IPython\\core\\formatters.py\u001b[0m in \u001b[0;36mformat\u001b[1;34m(self, obj, include, exclude)\u001b[0m\n\u001b[0;32m    178\u001b[0m             \u001b[0mmd\u001b[0m \u001b[1;33m=\u001b[0m \u001b[1;32mNone\u001b[0m\u001b[1;33m\u001b[0m\u001b[0m\n\u001b[0;32m    179\u001b[0m             \u001b[1;32mtry\u001b[0m\u001b[1;33m:\u001b[0m\u001b[1;33m\u001b[0m\u001b[0m\n\u001b[1;32m--> 180\u001b[1;33m                 \u001b[0mdata\u001b[0m \u001b[1;33m=\u001b[0m \u001b[0mformatter\u001b[0m\u001b[1;33m(\u001b[0m\u001b[0mobj\u001b[0m\u001b[1;33m)\u001b[0m\u001b[1;33m\u001b[0m\u001b[0m\n\u001b[0m\u001b[0;32m    181\u001b[0m             \u001b[1;32mexcept\u001b[0m\u001b[1;33m:\u001b[0m\u001b[1;33m\u001b[0m\u001b[0m\n\u001b[0;32m    182\u001b[0m                 \u001b[1;31m# FIXME: log the exception\u001b[0m\u001b[1;33m\u001b[0m\u001b[1;33m\u001b[0m\u001b[0m\n",
      "\u001b[1;32m~\\Software\\anaconda\\envs\\mrcnnENV\\lib\\site-packages\\decorator.py\u001b[0m in \u001b[0;36mfun\u001b[1;34m(*args, **kw)\u001b[0m\n\u001b[0;32m    230\u001b[0m             \u001b[1;32mif\u001b[0m \u001b[1;32mnot\u001b[0m \u001b[0mkwsyntax\u001b[0m\u001b[1;33m:\u001b[0m\u001b[1;33m\u001b[0m\u001b[0m\n\u001b[0;32m    231\u001b[0m                 \u001b[0margs\u001b[0m\u001b[1;33m,\u001b[0m \u001b[0mkw\u001b[0m \u001b[1;33m=\u001b[0m \u001b[0mfix\u001b[0m\u001b[1;33m(\u001b[0m\u001b[0margs\u001b[0m\u001b[1;33m,\u001b[0m \u001b[0mkw\u001b[0m\u001b[1;33m,\u001b[0m \u001b[0msig\u001b[0m\u001b[1;33m)\u001b[0m\u001b[1;33m\u001b[0m\u001b[0m\n\u001b[1;32m--> 232\u001b[1;33m             \u001b[1;32mreturn\u001b[0m \u001b[0mcaller\u001b[0m\u001b[1;33m(\u001b[0m\u001b[0mfunc\u001b[0m\u001b[1;33m,\u001b[0m \u001b[1;33m*\u001b[0m\u001b[1;33m(\u001b[0m\u001b[0mextras\u001b[0m \u001b[1;33m+\u001b[0m \u001b[0margs\u001b[0m\u001b[1;33m)\u001b[0m\u001b[1;33m,\u001b[0m \u001b[1;33m**\u001b[0m\u001b[0mkw\u001b[0m\u001b[1;33m)\u001b[0m\u001b[1;33m\u001b[0m\u001b[0m\n\u001b[0m\u001b[0;32m    233\u001b[0m     \u001b[0mfun\u001b[0m\u001b[1;33m.\u001b[0m\u001b[0m__name__\u001b[0m \u001b[1;33m=\u001b[0m \u001b[0mfunc\u001b[0m\u001b[1;33m.\u001b[0m\u001b[0m__name__\u001b[0m\u001b[1;33m\u001b[0m\u001b[0m\n\u001b[0;32m    234\u001b[0m     \u001b[0mfun\u001b[0m\u001b[1;33m.\u001b[0m\u001b[0m__doc__\u001b[0m \u001b[1;33m=\u001b[0m \u001b[0mfunc\u001b[0m\u001b[1;33m.\u001b[0m\u001b[0m__doc__\u001b[0m\u001b[1;33m\u001b[0m\u001b[0m\n",
      "\u001b[1;32m~\\Software\\anaconda\\envs\\mrcnnENV\\lib\\site-packages\\IPython\\core\\formatters.py\u001b[0m in \u001b[0;36mcatch_format_error\u001b[1;34m(method, self, *args, **kwargs)\u001b[0m\n\u001b[0;32m    222\u001b[0m     \u001b[1;34m\"\"\"show traceback on failed format call\"\"\"\u001b[0m\u001b[1;33m\u001b[0m\u001b[0m\n\u001b[0;32m    223\u001b[0m     \u001b[1;32mtry\u001b[0m\u001b[1;33m:\u001b[0m\u001b[1;33m\u001b[0m\u001b[0m\n\u001b[1;32m--> 224\u001b[1;33m         \u001b[0mr\u001b[0m \u001b[1;33m=\u001b[0m \u001b[0mmethod\u001b[0m\u001b[1;33m(\u001b[0m\u001b[0mself\u001b[0m\u001b[1;33m,\u001b[0m \u001b[1;33m*\u001b[0m\u001b[0margs\u001b[0m\u001b[1;33m,\u001b[0m \u001b[1;33m**\u001b[0m\u001b[0mkwargs\u001b[0m\u001b[1;33m)\u001b[0m\u001b[1;33m\u001b[0m\u001b[0m\n\u001b[0m\u001b[0;32m    225\u001b[0m     \u001b[1;32mexcept\u001b[0m \u001b[0mNotImplementedError\u001b[0m\u001b[1;33m:\u001b[0m\u001b[1;33m\u001b[0m\u001b[0m\n\u001b[0;32m    226\u001b[0m         \u001b[1;31m# don't warn on NotImplementedErrors\u001b[0m\u001b[1;33m\u001b[0m\u001b[1;33m\u001b[0m\u001b[0m\n",
      "\u001b[1;32m~\\Software\\anaconda\\envs\\mrcnnENV\\lib\\site-packages\\IPython\\core\\formatters.py\u001b[0m in \u001b[0;36m__call__\u001b[1;34m(self, obj)\u001b[0m\n\u001b[0;32m    339\u001b[0m                 \u001b[1;32mpass\u001b[0m\u001b[1;33m\u001b[0m\u001b[0m\n\u001b[0;32m    340\u001b[0m             \u001b[1;32melse\u001b[0m\u001b[1;33m:\u001b[0m\u001b[1;33m\u001b[0m\u001b[0m\n\u001b[1;32m--> 341\u001b[1;33m                 \u001b[1;32mreturn\u001b[0m \u001b[0mprinter\u001b[0m\u001b[1;33m(\u001b[0m\u001b[0mobj\u001b[0m\u001b[1;33m)\u001b[0m\u001b[1;33m\u001b[0m\u001b[0m\n\u001b[0m\u001b[0;32m    342\u001b[0m             \u001b[1;31m# Finally look for special method names\u001b[0m\u001b[1;33m\u001b[0m\u001b[1;33m\u001b[0m\u001b[0m\n\u001b[0;32m    343\u001b[0m             \u001b[0mmethod\u001b[0m \u001b[1;33m=\u001b[0m \u001b[0mget_real_method\u001b[0m\u001b[1;33m(\u001b[0m\u001b[0mobj\u001b[0m\u001b[1;33m,\u001b[0m \u001b[0mself\u001b[0m\u001b[1;33m.\u001b[0m\u001b[0mprint_method\u001b[0m\u001b[1;33m)\u001b[0m\u001b[1;33m\u001b[0m\u001b[0m\n",
      "\u001b[1;32m~\\Software\\anaconda\\envs\\mrcnnENV\\lib\\site-packages\\IPython\\core\\pylabtools.py\u001b[0m in \u001b[0;36m<lambda>\u001b[1;34m(fig)\u001b[0m\n\u001b[0;32m    248\u001b[0m \u001b[1;33m\u001b[0m\u001b[0m\n\u001b[0;32m    249\u001b[0m     \u001b[1;32mif\u001b[0m \u001b[1;34m'png'\u001b[0m \u001b[1;32min\u001b[0m \u001b[0mformats\u001b[0m\u001b[1;33m:\u001b[0m\u001b[1;33m\u001b[0m\u001b[0m\n\u001b[1;32m--> 250\u001b[1;33m         \u001b[0mpng_formatter\u001b[0m\u001b[1;33m.\u001b[0m\u001b[0mfor_type\u001b[0m\u001b[1;33m(\u001b[0m\u001b[0mFigure\u001b[0m\u001b[1;33m,\u001b[0m \u001b[1;32mlambda\u001b[0m \u001b[0mfig\u001b[0m\u001b[1;33m:\u001b[0m \u001b[0mprint_figure\u001b[0m\u001b[1;33m(\u001b[0m\u001b[0mfig\u001b[0m\u001b[1;33m,\u001b[0m \u001b[1;34m'png'\u001b[0m\u001b[1;33m,\u001b[0m \u001b[1;33m**\u001b[0m\u001b[0mkwargs\u001b[0m\u001b[1;33m)\u001b[0m\u001b[1;33m)\u001b[0m\u001b[1;33m\u001b[0m\u001b[0m\n\u001b[0m\u001b[0;32m    251\u001b[0m     \u001b[1;32mif\u001b[0m \u001b[1;34m'retina'\u001b[0m \u001b[1;32min\u001b[0m \u001b[0mformats\u001b[0m \u001b[1;32mor\u001b[0m \u001b[1;34m'png2x'\u001b[0m \u001b[1;32min\u001b[0m \u001b[0mformats\u001b[0m\u001b[1;33m:\u001b[0m\u001b[1;33m\u001b[0m\u001b[0m\n\u001b[0;32m    252\u001b[0m         \u001b[0mpng_formatter\u001b[0m\u001b[1;33m.\u001b[0m\u001b[0mfor_type\u001b[0m\u001b[1;33m(\u001b[0m\u001b[0mFigure\u001b[0m\u001b[1;33m,\u001b[0m \u001b[1;32mlambda\u001b[0m \u001b[0mfig\u001b[0m\u001b[1;33m:\u001b[0m \u001b[0mretina_figure\u001b[0m\u001b[1;33m(\u001b[0m\u001b[0mfig\u001b[0m\u001b[1;33m,\u001b[0m \u001b[1;33m**\u001b[0m\u001b[0mkwargs\u001b[0m\u001b[1;33m)\u001b[0m\u001b[1;33m)\u001b[0m\u001b[1;33m\u001b[0m\u001b[0m\n",
      "\u001b[1;32m~\\Software\\anaconda\\envs\\mrcnnENV\\lib\\site-packages\\IPython\\core\\pylabtools.py\u001b[0m in \u001b[0;36mprint_figure\u001b[1;34m(fig, fmt, bbox_inches, **kwargs)\u001b[0m\n\u001b[0;32m    132\u001b[0m         \u001b[0mFigureCanvasBase\u001b[0m\u001b[1;33m(\u001b[0m\u001b[0mfig\u001b[0m\u001b[1;33m)\u001b[0m\u001b[1;33m\u001b[0m\u001b[0m\n\u001b[0;32m    133\u001b[0m \u001b[1;33m\u001b[0m\u001b[0m\n\u001b[1;32m--> 134\u001b[1;33m     \u001b[0mfig\u001b[0m\u001b[1;33m.\u001b[0m\u001b[0mcanvas\u001b[0m\u001b[1;33m.\u001b[0m\u001b[0mprint_figure\u001b[0m\u001b[1;33m(\u001b[0m\u001b[0mbytes_io\u001b[0m\u001b[1;33m,\u001b[0m \u001b[1;33m**\u001b[0m\u001b[0mkw\u001b[0m\u001b[1;33m)\u001b[0m\u001b[1;33m\u001b[0m\u001b[0m\n\u001b[0m\u001b[0;32m    135\u001b[0m     \u001b[0mdata\u001b[0m \u001b[1;33m=\u001b[0m \u001b[0mbytes_io\u001b[0m\u001b[1;33m.\u001b[0m\u001b[0mgetvalue\u001b[0m\u001b[1;33m(\u001b[0m\u001b[1;33m)\u001b[0m\u001b[1;33m\u001b[0m\u001b[0m\n\u001b[0;32m    136\u001b[0m     \u001b[1;32mif\u001b[0m \u001b[0mfmt\u001b[0m \u001b[1;33m==\u001b[0m \u001b[1;34m'svg'\u001b[0m\u001b[1;33m:\u001b[0m\u001b[1;33m\u001b[0m\u001b[0m\n",
      "\u001b[1;32m~\\Software\\anaconda\\envs\\mrcnnENV\\lib\\site-packages\\matplotlib\\backend_bases.py\u001b[0m in \u001b[0;36mprint_figure\u001b[1;34m(self, filename, dpi, facecolor, edgecolor, orientation, format, bbox_inches, pad_inches, bbox_extra_artists, backend, **kwargs)\u001b[0m\n\u001b[0;32m   2259\u001b[0m                         \u001b[0morientation\u001b[0m\u001b[1;33m=\u001b[0m\u001b[0morientation\u001b[0m\u001b[1;33m,\u001b[0m\u001b[1;33m\u001b[0m\u001b[0m\n\u001b[0;32m   2260\u001b[0m                         \u001b[0mbbox_inches_restore\u001b[0m\u001b[1;33m=\u001b[0m\u001b[0m_bbox_inches_restore\u001b[0m\u001b[1;33m,\u001b[0m\u001b[1;33m\u001b[0m\u001b[0m\n\u001b[1;32m-> 2261\u001b[1;33m                         **kwargs)\n\u001b[0m\u001b[0;32m   2262\u001b[0m             \u001b[1;32mfinally\u001b[0m\u001b[1;33m:\u001b[0m\u001b[1;33m\u001b[0m\u001b[0m\n\u001b[0;32m   2263\u001b[0m                 \u001b[1;32mif\u001b[0m \u001b[0mbbox_inches\u001b[0m \u001b[1;32mand\u001b[0m \u001b[0mrestore_bbox\u001b[0m\u001b[1;33m:\u001b[0m\u001b[1;33m\u001b[0m\u001b[0m\n",
      "\u001b[1;32m~\\Software\\anaconda\\envs\\mrcnnENV\\lib\\site-packages\\matplotlib\\backend_bases.py\u001b[0m in \u001b[0;36mwrapper\u001b[1;34m(*args, **kwargs)\u001b[0m\n\u001b[0;32m   1667\u001b[0m             \u001b[0mkwargs\u001b[0m\u001b[1;33m.\u001b[0m\u001b[0mpop\u001b[0m\u001b[1;33m(\u001b[0m\u001b[0marg\u001b[0m\u001b[1;33m)\u001b[0m\u001b[1;33m\u001b[0m\u001b[0m\n\u001b[0;32m   1668\u001b[0m \u001b[1;33m\u001b[0m\u001b[0m\n\u001b[1;32m-> 1669\u001b[1;33m         \u001b[1;32mreturn\u001b[0m \u001b[0mfunc\u001b[0m\u001b[1;33m(\u001b[0m\u001b[1;33m*\u001b[0m\u001b[0margs\u001b[0m\u001b[1;33m,\u001b[0m \u001b[1;33m**\u001b[0m\u001b[0mkwargs\u001b[0m\u001b[1;33m)\u001b[0m\u001b[1;33m\u001b[0m\u001b[0m\n\u001b[0m\u001b[0;32m   1670\u001b[0m \u001b[1;33m\u001b[0m\u001b[0m\n\u001b[0;32m   1671\u001b[0m     \u001b[1;32mreturn\u001b[0m \u001b[0mwrapper\u001b[0m\u001b[1;33m\u001b[0m\u001b[0m\n",
      "\u001b[1;32m~\\Software\\anaconda\\envs\\mrcnnENV\\lib\\site-packages\\matplotlib\\backends\\backend_agg.py\u001b[0m in \u001b[0;36mprint_png\u001b[1;34m(self, filename_or_obj, metadata, pil_kwargs, *args)\u001b[0m\n\u001b[0;32m    509\u001b[0m         mpl.image.imsave(\n\u001b[0;32m    510\u001b[0m             \u001b[0mfilename_or_obj\u001b[0m\u001b[1;33m,\u001b[0m \u001b[0mself\u001b[0m\u001b[1;33m.\u001b[0m\u001b[0mbuffer_rgba\u001b[0m\u001b[1;33m(\u001b[0m\u001b[1;33m)\u001b[0m\u001b[1;33m,\u001b[0m \u001b[0mformat\u001b[0m\u001b[1;33m=\u001b[0m\u001b[1;34m\"png\"\u001b[0m\u001b[1;33m,\u001b[0m \u001b[0morigin\u001b[0m\u001b[1;33m=\u001b[0m\u001b[1;34m\"upper\"\u001b[0m\u001b[1;33m,\u001b[0m\u001b[1;33m\u001b[0m\u001b[0m\n\u001b[1;32m--> 511\u001b[1;33m             dpi=self.figure.dpi, metadata=metadata, pil_kwargs=pil_kwargs)\n\u001b[0m\u001b[0;32m    512\u001b[0m \u001b[1;33m\u001b[0m\u001b[0m\n\u001b[0;32m    513\u001b[0m     \u001b[1;32mdef\u001b[0m \u001b[0mprint_to_buffer\u001b[0m\u001b[1;33m(\u001b[0m\u001b[0mself\u001b[0m\u001b[1;33m)\u001b[0m\u001b[1;33m:\u001b[0m\u001b[1;33m\u001b[0m\u001b[0m\n",
      "\u001b[1;32m~\\Software\\anaconda\\envs\\mrcnnENV\\lib\\site-packages\\matplotlib\\image.py\u001b[0m in \u001b[0;36mimsave\u001b[1;34m(fname, arr, vmin, vmax, cmap, format, origin, dpi, metadata, pil_kwargs)\u001b[0m\n\u001b[0;32m   1614\u001b[0m         \u001b[0mpil_kwargs\u001b[0m\u001b[1;33m.\u001b[0m\u001b[0msetdefault\u001b[0m\u001b[1;33m(\u001b[0m\u001b[1;34m\"format\"\u001b[0m\u001b[1;33m,\u001b[0m \u001b[0mformat\u001b[0m\u001b[1;33m)\u001b[0m\u001b[1;33m\u001b[0m\u001b[0m\n\u001b[0;32m   1615\u001b[0m         \u001b[0mpil_kwargs\u001b[0m\u001b[1;33m.\u001b[0m\u001b[0msetdefault\u001b[0m\u001b[1;33m(\u001b[0m\u001b[1;34m\"dpi\"\u001b[0m\u001b[1;33m,\u001b[0m \u001b[1;33m(\u001b[0m\u001b[0mdpi\u001b[0m\u001b[1;33m,\u001b[0m \u001b[0mdpi\u001b[0m\u001b[1;33m)\u001b[0m\u001b[1;33m)\u001b[0m\u001b[1;33m\u001b[0m\u001b[0m\n\u001b[1;32m-> 1616\u001b[1;33m         \u001b[0mimage\u001b[0m\u001b[1;33m.\u001b[0m\u001b[0msave\u001b[0m\u001b[1;33m(\u001b[0m\u001b[0mfname\u001b[0m\u001b[1;33m,\u001b[0m \u001b[1;33m**\u001b[0m\u001b[0mpil_kwargs\u001b[0m\u001b[1;33m)\u001b[0m\u001b[1;33m\u001b[0m\u001b[0m\n\u001b[0m\u001b[0;32m   1617\u001b[0m \u001b[1;33m\u001b[0m\u001b[0m\n\u001b[0;32m   1618\u001b[0m \u001b[1;33m\u001b[0m\u001b[0m\n",
      "\u001b[1;32m~\\Software\\anaconda\\envs\\mrcnnENV\\lib\\site-packages\\PIL\\Image.py\u001b[0m in \u001b[0;36msave\u001b[1;34m(self, fp, format, **params)\u001b[0m\n\u001b[0;32m   2233\u001b[0m \u001b[1;33m\u001b[0m\u001b[0m\n\u001b[0;32m   2234\u001b[0m         \u001b[1;32mtry\u001b[0m\u001b[1;33m:\u001b[0m\u001b[1;33m\u001b[0m\u001b[0m\n\u001b[1;32m-> 2235\u001b[1;33m             \u001b[0msave_handler\u001b[0m\u001b[1;33m(\u001b[0m\u001b[0mself\u001b[0m\u001b[1;33m,\u001b[0m \u001b[0mfp\u001b[0m\u001b[1;33m,\u001b[0m \u001b[0mfilename\u001b[0m\u001b[1;33m)\u001b[0m\u001b[1;33m\u001b[0m\u001b[0m\n\u001b[0m\u001b[0;32m   2236\u001b[0m         \u001b[1;32mfinally\u001b[0m\u001b[1;33m:\u001b[0m\u001b[1;33m\u001b[0m\u001b[0m\n\u001b[0;32m   2237\u001b[0m             \u001b[1;31m# do what we can to clean up\u001b[0m\u001b[1;33m\u001b[0m\u001b[1;33m\u001b[0m\u001b[0m\n",
      "\u001b[1;32m~\\Software\\anaconda\\envs\\mrcnnENV\\lib\\site-packages\\PIL\\PngImagePlugin.py\u001b[0m in \u001b[0;36m_save\u001b[1;34m(im, fp, filename, chunk, save_all)\u001b[0m\n\u001b[0;32m   1347\u001b[0m         \u001b[0m_write_multiple_frames\u001b[0m\u001b[1;33m(\u001b[0m\u001b[0mim\u001b[0m\u001b[1;33m,\u001b[0m \u001b[0mfp\u001b[0m\u001b[1;33m,\u001b[0m \u001b[0mchunk\u001b[0m\u001b[1;33m,\u001b[0m \u001b[0mrawmode\u001b[0m\u001b[1;33m)\u001b[0m\u001b[1;33m\u001b[0m\u001b[0m\n\u001b[0;32m   1348\u001b[0m     \u001b[1;32melse\u001b[0m\u001b[1;33m:\u001b[0m\u001b[1;33m\u001b[0m\u001b[0m\n\u001b[1;32m-> 1349\u001b[1;33m         \u001b[0mImageFile\u001b[0m\u001b[1;33m.\u001b[0m\u001b[0m_save\u001b[0m\u001b[1;33m(\u001b[0m\u001b[0mim\u001b[0m\u001b[1;33m,\u001b[0m \u001b[0m_idat\u001b[0m\u001b[1;33m(\u001b[0m\u001b[0mfp\u001b[0m\u001b[1;33m,\u001b[0m \u001b[0mchunk\u001b[0m\u001b[1;33m)\u001b[0m\u001b[1;33m,\u001b[0m \u001b[1;33m[\u001b[0m\u001b[1;33m(\u001b[0m\u001b[1;34m\"zip\"\u001b[0m\u001b[1;33m,\u001b[0m \u001b[1;33m(\u001b[0m\u001b[1;36m0\u001b[0m\u001b[1;33m,\u001b[0m \u001b[1;36m0\u001b[0m\u001b[1;33m)\u001b[0m \u001b[1;33m+\u001b[0m \u001b[0mim\u001b[0m\u001b[1;33m.\u001b[0m\u001b[0msize\u001b[0m\u001b[1;33m,\u001b[0m \u001b[1;36m0\u001b[0m\u001b[1;33m,\u001b[0m \u001b[0mrawmode\u001b[0m\u001b[1;33m)\u001b[0m\u001b[1;33m]\u001b[0m\u001b[1;33m)\u001b[0m\u001b[1;33m\u001b[0m\u001b[0m\n\u001b[0m\u001b[0;32m   1350\u001b[0m \u001b[1;33m\u001b[0m\u001b[0m\n\u001b[0;32m   1351\u001b[0m     \u001b[1;32mif\u001b[0m \u001b[0minfo\u001b[0m\u001b[1;33m:\u001b[0m\u001b[1;33m\u001b[0m\u001b[0m\n",
      "\u001b[1;32m~\\Software\\anaconda\\envs\\mrcnnENV\\lib\\site-packages\\PIL\\ImageFile.py\u001b[0m in \u001b[0;36m_save\u001b[1;34m(im, fp, tile, bufsize)\u001b[0m\n\u001b[0;32m    516\u001b[0m             \u001b[1;32melse\u001b[0m\u001b[1;33m:\u001b[0m\u001b[1;33m\u001b[0m\u001b[0m\n\u001b[0;32m    517\u001b[0m                 \u001b[1;32mwhile\u001b[0m \u001b[1;32mTrue\u001b[0m\u001b[1;33m:\u001b[0m\u001b[1;33m\u001b[0m\u001b[0m\n\u001b[1;32m--> 518\u001b[1;33m                     \u001b[0ml\u001b[0m\u001b[1;33m,\u001b[0m \u001b[0ms\u001b[0m\u001b[1;33m,\u001b[0m \u001b[0md\u001b[0m \u001b[1;33m=\u001b[0m \u001b[0me\u001b[0m\u001b[1;33m.\u001b[0m\u001b[0mencode\u001b[0m\u001b[1;33m(\u001b[0m\u001b[0mbufsize\u001b[0m\u001b[1;33m)\u001b[0m\u001b[1;33m\u001b[0m\u001b[0m\n\u001b[0m\u001b[0;32m    519\u001b[0m                     \u001b[0mfp\u001b[0m\u001b[1;33m.\u001b[0m\u001b[0mwrite\u001b[0m\u001b[1;33m(\u001b[0m\u001b[0md\u001b[0m\u001b[1;33m)\u001b[0m\u001b[1;33m\u001b[0m\u001b[0m\n\u001b[0;32m    520\u001b[0m                     \u001b[1;32mif\u001b[0m \u001b[0ms\u001b[0m\u001b[1;33m:\u001b[0m\u001b[1;33m\u001b[0m\u001b[0m\n",
      "\u001b[1;31mKeyboardInterrupt\u001b[0m: "
     ]
    }
   ],
   "source": [
    "for i in range(50):\n",
    "    image_id = random.choice(dataset.image_ids)\n",
    "    image, image_meta, gt_class_id, gt_bbox, gt_mask = modellib.load_image_gt(dataset, config, image_id)\n",
    "    info = dataset.image_info[image_id]\n",
    "    print(\"image ID: {}.{} ({}) {}\".format(info[\"source\"], info[\"id\"], image_id, \n",
    "                                           dataset.image_reference(image_id)))\n",
    "\n",
    "    # Run object detection\n",
    "    results = model.detect([image], verbose=1)\n",
    "\n",
    "    # Display results\n",
    "    ax = get_ax(1)\n",
    "    r = results[0]\n",
    "    visualize.display_instances(image, r['rois'], r['masks'], r['class_ids'], \n",
    "                                dataset.class_names, r['scores'], ax=ax,\n",
    "                                title=\"Predictions\")\n",
    "    log(\"gt_class_id\", gt_class_id)\n",
    "    log(\"gt_bbox\", gt_bbox)\n",
    "    log(\"gt_mask\", gt_mask)"
   ]
  },
  {
   "cell_type": "code",
   "execution_count": 11,
   "id": "e7a404d4",
   "metadata": {},
   "outputs": [],
   "source": [
    "import cv2\n",
    "VIDEO_DIR = os.path.join(ROOT_DIR, r'samples\\under_sea\\samples\\videos')\n",
    "VIDEO_SAVE_DIR = os.path.join(VIDEO_DIR, 'savedimgs')"
   ]
  },
  {
   "cell_type": "code",
   "execution_count": 12,
   "id": "594e412b",
   "metadata": {},
   "outputs": [],
   "source": [
    "# #Download video from YouTube\n",
    "# import pytube\n",
    "# from pytube import YouTube\n",
    "# import os\n",
    "# def downloadYouTube(videourl, path):\n",
    "#     yt = YouTube(videourl)\n",
    "#     yt = yt.streams.filter(progressive=True, file_extension='mp4').order_by('resolution').desc().first()\n",
    "#     if not os.path.exists(path):\n",
    "#         os.makedirs(path)\n",
    "#         yt.download(path)\n",
    "# downloadYouTube('https://www.youtube.com/watch?v=iTNnnsT0UDI', './samples/videos')"
   ]
  },
  {
   "cell_type": "code",
   "execution_count": 13,
   "id": "16db048c",
   "metadata": {},
   "outputs": [],
   "source": [
    "def random_colors(N):\n",
    "    np.random.seed(1)\n",
    "    colors = [tuple(255 * np.random.rand(3)) for _ in range(N)]\n",
    "    return colors\n",
    "\n",
    "\n",
    "colors = random_colors(len(class_names))\n",
    "class_dict = {\n",
    "    name: color for name, color in zip(class_names, colors)\n",
    "}\n",
    "\n",
    "def apply_mask(image, mask, color, alpha=0.5):\n",
    "    \"\"\"apply mask to image\"\"\"\n",
    "    for n, c in enumerate(color):\n",
    "        image[:, :, n] = np.where(\n",
    "            mask == 1,\n",
    "            image[:, :, n] * (1 - alpha) + alpha * c,\n",
    "            image[:, :, n]\n",
    "        )\n",
    "    return image\n",
    "\n",
    "\n",
    "def display_instances(image, boxes, masks, ids, names, scores):\n",
    "    \"\"\"\n",
    "        take the image and results and apply the mask, box, and Label\n",
    "    \"\"\"\n",
    "    n_instances = boxes.shape[0]\n",
    "\n",
    "    if not n_instances:\n",
    "        print('NO INSTANCES TO DISPLAY')\n",
    "    else:\n",
    "        assert boxes.shape[0] == masks.shape[-1] == ids.shape[0]\n",
    "\n",
    "    for i in range(n_instances):\n",
    "        if not np.any(boxes[i]):\n",
    "            continue\n",
    "\n",
    "        y1, x1, y2, x2 = boxes[i]\n",
    "        label = names[ids[i]]\n",
    "        color = (255, 0, 0)\n",
    "        score = scores[i] if scores is not None else None\n",
    "        caption = '{} {:.2f}'.format(label, score) if score else label\n",
    "        mask = masks[:, :, i]\n",
    "\n",
    "        image = apply_mask(image, mask, color)\n",
    "        image = cv2.rectangle(image, (x1, y1), (x2, y2), color, 2)\n",
    "        image = cv2.putText(\n",
    "            image, caption, (x1, y1), cv2.FONT_HERSHEY_COMPLEX, 0.7, color, 2\n",
    "        )\n",
    "\n",
    "    return image"
   ]
  },
  {
   "cell_type": "code",
   "execution_count": 14,
   "id": "584880a1",
   "metadata": {},
   "outputs": [
    {
     "name": "stdout",
     "output_type": "stream",
     "text": [
      "NO INSTANCES TO DISPLAY\n",
      "NO INSTANCES TO DISPLAY\n",
      "NO INSTANCES TO DISPLAY\n",
      "NO INSTANCES TO DISPLAY\n",
      "NO INSTANCES TO DISPLAY\n",
      "NO INSTANCES TO DISPLAY\n",
      "NO INSTANCES TO DISPLAY\n",
      "NO INSTANCES TO DISPLAY\n",
      "NO INSTANCES TO DISPLAY\n",
      "NO INSTANCES TO DISPLAY\n",
      "NO INSTANCES TO DISPLAY\n",
      "NO INSTANCES TO DISPLAY\n",
      "NO INSTANCES TO DISPLAY\n",
      "NO INSTANCES TO DISPLAY\n",
      "NO INSTANCES TO DISPLAY\n",
      "NO INSTANCES TO DISPLAY\n",
      "NO INSTANCES TO DISPLAY\n",
      "NO INSTANCES TO DISPLAY\n",
      "NO INSTANCES TO DISPLAY\n",
      "NO INSTANCES TO DISPLAY\n",
      "NO INSTANCES TO DISPLAY\n",
      "NO INSTANCES TO DISPLAY\n",
      "NO INSTANCES TO DISPLAY\n",
      "NO INSTANCES TO DISPLAY\n",
      "NO INSTANCES TO DISPLAY\n",
      "NO INSTANCES TO DISPLAY\n",
      "NO INSTANCES TO DISPLAY\n",
      "NO INSTANCES TO DISPLAY\n",
      "NO INSTANCES TO DISPLAY\n",
      "NO INSTANCES TO DISPLAY\n",
      "NO INSTANCES TO DISPLAY\n",
      "NO INSTANCES TO DISPLAY\n",
      "NO INSTANCES TO DISPLAY\n",
      "NO INSTANCES TO DISPLAY\n",
      "NO INSTANCES TO DISPLAY\n",
      "NO INSTANCES TO DISPLAY\n",
      "NO INSTANCES TO DISPLAY\n",
      "NO INSTANCES TO DISPLAY\n",
      "NO INSTANCES TO DISPLAY\n",
      "NO INSTANCES TO DISPLAY\n",
      "NO INSTANCES TO DISPLAY\n",
      "NO INSTANCES TO DISPLAY\n",
      "NO INSTANCES TO DISPLAY\n",
      "NO INSTANCES TO DISPLAY\n",
      "NO INSTANCES TO DISPLAY\n",
      "NO INSTANCES TO DISPLAY\n",
      "NO INSTANCES TO DISPLAY\n",
      "NO INSTANCES TO DISPLAY\n",
      "NO INSTANCES TO DISPLAY\n",
      "NO INSTANCES TO DISPLAY\n",
      "NO INSTANCES TO DISPLAY\n",
      "NO INSTANCES TO DISPLAY\n",
      "NO INSTANCES TO DISPLAY\n",
      "NO INSTANCES TO DISPLAY\n",
      "NO INSTANCES TO DISPLAY\n",
      "NO INSTANCES TO DISPLAY\n",
      "NO INSTANCES TO DISPLAY\n",
      "NO INSTANCES TO DISPLAY\n",
      "NO INSTANCES TO DISPLAY\n",
      "NO INSTANCES TO DISPLAY\n",
      "NO INSTANCES TO DISPLAY\n",
      "NO INSTANCES TO DISPLAY\n",
      "NO INSTANCES TO DISPLAY\n",
      "NO INSTANCES TO DISPLAY\n",
      "NO INSTANCES TO DISPLAY\n",
      "NO INSTANCES TO DISPLAY\n",
      "NO INSTANCES TO DISPLAY\n",
      "NO INSTANCES TO DISPLAY\n",
      "NO INSTANCES TO DISPLAY\n",
      "NO INSTANCES TO DISPLAY\n",
      "NO INSTANCES TO DISPLAY\n",
      "NO INSTANCES TO DISPLAY\n",
      "NO INSTANCES TO DISPLAY\n",
      "NO INSTANCES TO DISPLAY\n",
      "NO INSTANCES TO DISPLAY\n",
      "NO INSTANCES TO DISPLAY\n",
      "NO INSTANCES TO DISPLAY\n",
      "NO INSTANCES TO DISPLAY\n",
      "NO INSTANCES TO DISPLAY\n",
      "NO INSTANCES TO DISPLAY\n",
      "NO INSTANCES TO DISPLAY\n",
      "NO INSTANCES TO DISPLAY\n",
      "NO INSTANCES TO DISPLAY\n",
      "NO INSTANCES TO DISPLAY\n",
      "NO INSTANCES TO DISPLAY\n",
      "NO INSTANCES TO DISPLAY\n",
      "NO INSTANCES TO DISPLAY\n",
      "NO INSTANCES TO DISPLAY\n",
      "NO INSTANCES TO DISPLAY\n",
      "NO INSTANCES TO DISPLAY\n",
      "NO INSTANCES TO DISPLAY\n",
      "NO INSTANCES TO DISPLAY\n",
      "NO INSTANCES TO DISPLAY\n",
      "NO INSTANCES TO DISPLAY\n",
      "NO INSTANCES TO DISPLAY\n",
      "NO INSTANCES TO DISPLAY\n",
      "NO INSTANCES TO DISPLAY\n",
      "NO INSTANCES TO DISPLAY\n",
      "NO INSTANCES TO DISPLAY\n",
      "NO INSTANCES TO DISPLAY\n",
      "NO INSTANCES TO DISPLAY\n",
      "NO INSTANCES TO DISPLAY\n",
      "NO INSTANCES TO DISPLAY\n",
      "NO INSTANCES TO DISPLAY\n",
      "NO INSTANCES TO DISPLAY\n",
      "NO INSTANCES TO DISPLAY\n",
      "NO INSTANCES TO DISPLAY\n",
      "NO INSTANCES TO DISPLAY\n",
      "NO INSTANCES TO DISPLAY\n",
      "NO INSTANCES TO DISPLAY\n",
      "NO INSTANCES TO DISPLAY\n",
      "NO INSTANCES TO DISPLAY\n",
      "NO INSTANCES TO DISPLAY\n",
      "NO INSTANCES TO DISPLAY\n",
      "NO INSTANCES TO DISPLAY\n",
      "NO INSTANCES TO DISPLAY\n",
      "NO INSTANCES TO DISPLAY\n",
      "NO INSTANCES TO DISPLAY\n",
      "NO INSTANCES TO DISPLAY\n",
      "NO INSTANCES TO DISPLAY\n",
      "NO INSTANCES TO DISPLAY\n",
      "NO INSTANCES TO DISPLAY\n",
      "NO INSTANCES TO DISPLAY\n",
      "NO INSTANCES TO DISPLAY\n",
      "NO INSTANCES TO DISPLAY\n",
      "NO INSTANCES TO DISPLAY\n",
      "NO INSTANCES TO DISPLAY\n",
      "NO INSTANCES TO DISPLAY\n",
      "NO INSTANCES TO DISPLAY\n",
      "NO INSTANCES TO DISPLAY\n",
      "NO INSTANCES TO DISPLAY\n",
      "NO INSTANCES TO DISPLAY\n",
      "NO INSTANCES TO DISPLAY\n",
      "NO INSTANCES TO DISPLAY\n",
      "NO INSTANCES TO DISPLAY\n",
      "NO INSTANCES TO DISPLAY\n",
      "NO INSTANCES TO DISPLAY\n",
      "NO INSTANCES TO DISPLAY\n",
      "NO INSTANCES TO DISPLAY\n",
      "NO INSTANCES TO DISPLAY\n",
      "NO INSTANCES TO DISPLAY\n",
      "NO INSTANCES TO DISPLAY\n",
      "NO INSTANCES TO DISPLAY\n",
      "NO INSTANCES TO DISPLAY\n",
      "NO INSTANCES TO DISPLAY\n",
      "NO INSTANCES TO DISPLAY\n",
      "NO INSTANCES TO DISPLAY\n",
      "NO INSTANCES TO DISPLAY\n",
      "NO INSTANCES TO DISPLAY\n",
      "NO INSTANCES TO DISPLAY\n",
      "NO INSTANCES TO DISPLAY\n",
      "NO INSTANCES TO DISPLAY\n",
      "NO INSTANCES TO DISPLAY\n",
      "NO INSTANCES TO DISPLAY\n",
      "NO INSTANCES TO DISPLAY\n",
      "NO INSTANCES TO DISPLAY\n",
      "NO INSTANCES TO DISPLAY\n",
      "NO INSTANCES TO DISPLAY\n",
      "NO INSTANCES TO DISPLAY\n",
      "NO INSTANCES TO DISPLAY\n",
      "NO INSTANCES TO DISPLAY\n",
      "NO INSTANCES TO DISPLAY\n",
      "NO INSTANCES TO DISPLAY\n",
      "NO INSTANCES TO DISPLAY\n",
      "NO INSTANCES TO DISPLAY\n",
      "NO INSTANCES TO DISPLAY\n",
      "NO INSTANCES TO DISPLAY\n",
      "NO INSTANCES TO DISPLAY\n",
      "NO INSTANCES TO DISPLAY\n",
      "NO INSTANCES TO DISPLAY\n",
      "NO INSTANCES TO DISPLAY\n",
      "NO INSTANCES TO DISPLAY\n",
      "NO INSTANCES TO DISPLAY\n",
      "NO INSTANCES TO DISPLAY\n",
      "NO INSTANCES TO DISPLAY\n",
      "NO INSTANCES TO DISPLAY\n",
      "NO INSTANCES TO DISPLAY\n",
      "NO INSTANCES TO DISPLAY\n",
      "NO INSTANCES TO DISPLAY\n",
      "NO INSTANCES TO DISPLAY\n",
      "NO INSTANCES TO DISPLAY\n",
      "NO INSTANCES TO DISPLAY\n",
      "NO INSTANCES TO DISPLAY\n",
      "NO INSTANCES TO DISPLAY\n",
      "NO INSTANCES TO DISPLAY\n",
      "NO INSTANCES TO DISPLAY\n",
      "NO INSTANCES TO DISPLAY\n",
      "NO INSTANCES TO DISPLAY\n",
      "NO INSTANCES TO DISPLAY\n",
      "NO INSTANCES TO DISPLAY\n",
      "NO INSTANCES TO DISPLAY\n",
      "NO INSTANCES TO DISPLAY\n",
      "NO INSTANCES TO DISPLAY\n",
      "NO INSTANCES TO DISPLAY\n",
      "NO INSTANCES TO DISPLAY\n",
      "NO INSTANCES TO DISPLAY\n",
      "NO INSTANCES TO DISPLAY\n",
      "NO INSTANCES TO DISPLAY\n",
      "NO INSTANCES TO DISPLAY\n",
      "NO INSTANCES TO DISPLAY\n",
      "NO INSTANCES TO DISPLAY\n",
      "NO INSTANCES TO DISPLAY\n",
      "NO INSTANCES TO DISPLAY\n",
      "NO INSTANCES TO DISPLAY\n",
      "NO INSTANCES TO DISPLAY\n",
      "NO INSTANCES TO DISPLAY\n",
      "NO INSTANCES TO DISPLAY\n",
      "NO INSTANCES TO DISPLAY\n",
      "NO INSTANCES TO DISPLAY\n",
      "NO INSTANCES TO DISPLAY\n",
      "NO INSTANCES TO DISPLAY\n",
      "NO INSTANCES TO DISPLAY\n",
      "NO INSTANCES TO DISPLAY\n",
      "NO INSTANCES TO DISPLAY\n",
      "NO INSTANCES TO DISPLAY\n",
      "NO INSTANCES TO DISPLAY\n",
      "NO INSTANCES TO DISPLAY\n",
      "NO INSTANCES TO DISPLAY\n",
      "NO INSTANCES TO DISPLAY\n",
      "NO INSTANCES TO DISPLAY\n",
      "NO INSTANCES TO DISPLAY\n",
      "NO INSTANCES TO DISPLAY\n",
      "NO INSTANCES TO DISPLAY\n",
      "NO INSTANCES TO DISPLAY\n",
      "NO INSTANCES TO DISPLAY\n",
      "NO INSTANCES TO DISPLAY\n",
      "NO INSTANCES TO DISPLAY\n",
      "NO INSTANCES TO DISPLAY\n",
      "NO INSTANCES TO DISPLAY\n",
      "NO INSTANCES TO DISPLAY\n",
      "NO INSTANCES TO DISPLAY\n",
      "NO INSTANCES TO DISPLAY\n",
      "NO INSTANCES TO DISPLAY\n",
      "NO INSTANCES TO DISPLAY\n",
      "NO INSTANCES TO DISPLAY\n",
      "NO INSTANCES TO DISPLAY\n",
      "NO INSTANCES TO DISPLAY\n",
      "NO INSTANCES TO DISPLAY\n",
      "NO INSTANCES TO DISPLAY\n",
      "NO INSTANCES TO DISPLAY\n",
      "NO INSTANCES TO DISPLAY\n",
      "NO INSTANCES TO DISPLAY\n",
      "NO INSTANCES TO DISPLAY\n",
      "NO INSTANCES TO DISPLAY\n",
      "NO INSTANCES TO DISPLAY\n",
      "NO INSTANCES TO DISPLAY\n",
      "NO INSTANCES TO DISPLAY\n",
      "NO INSTANCES TO DISPLAY\n",
      "NO INSTANCES TO DISPLAY\n",
      "NO INSTANCES TO DISPLAY\n",
      "NO INSTANCES TO DISPLAY\n",
      "NO INSTANCES TO DISPLAY\n",
      "NO INSTANCES TO DISPLAY\n",
      "NO INSTANCES TO DISPLAY\n",
      "NO INSTANCES TO DISPLAY\n",
      "NO INSTANCES TO DISPLAY\n",
      "NO INSTANCES TO DISPLAY\n",
      "NO INSTANCES TO DISPLAY\n",
      "NO INSTANCES TO DISPLAY\n",
      "NO INSTANCES TO DISPLAY\n",
      "NO INSTANCES TO DISPLAY\n",
      "NO INSTANCES TO DISPLAY\n",
      "NO INSTANCES TO DISPLAY\n",
      "NO INSTANCES TO DISPLAY\n",
      "NO INSTANCES TO DISPLAY\n",
      "NO INSTANCES TO DISPLAY\n",
      "NO INSTANCES TO DISPLAY\n",
      "NO INSTANCES TO DISPLAY\n",
      "NO INSTANCES TO DISPLAY\n",
      "NO INSTANCES TO DISPLAY\n",
      "NO INSTANCES TO DISPLAY\n",
      "NO INSTANCES TO DISPLAY\n",
      "NO INSTANCES TO DISPLAY\n",
      "NO INSTANCES TO DISPLAY\n",
      "NO INSTANCES TO DISPLAY\n",
      "NO INSTANCES TO DISPLAY\n",
      "NO INSTANCES TO DISPLAY\n",
      "NO INSTANCES TO DISPLAY\n",
      "NO INSTANCES TO DISPLAY\n",
      "NO INSTANCES TO DISPLAY\n",
      "NO INSTANCES TO DISPLAY\n",
      "NO INSTANCES TO DISPLAY\n",
      "NO INSTANCES TO DISPLAY\n",
      "NO INSTANCES TO DISPLAY\n",
      "NO INSTANCES TO DISPLAY\n",
      "NO INSTANCES TO DISPLAY\n",
      "NO INSTANCES TO DISPLAY\n",
      "NO INSTANCES TO DISPLAY\n",
      "NO INSTANCES TO DISPLAY\n",
      "NO INSTANCES TO DISPLAY\n",
      "NO INSTANCES TO DISPLAY\n",
      "NO INSTANCES TO DISPLAY\n",
      "NO INSTANCES TO DISPLAY\n",
      "NO INSTANCES TO DISPLAY\n",
      "NO INSTANCES TO DISPLAY\n",
      "NO INSTANCES TO DISPLAY\n",
      "NO INSTANCES TO DISPLAY\n",
      "NO INSTANCES TO DISPLAY\n",
      "NO INSTANCES TO DISPLAY\n",
      "NO INSTANCES TO DISPLAY\n",
      "NO INSTANCES TO DISPLAY\n",
      "NO INSTANCES TO DISPLAY\n",
      "NO INSTANCES TO DISPLAY\n",
      "NO INSTANCES TO DISPLAY\n",
      "NO INSTANCES TO DISPLAY\n",
      "NO INSTANCES TO DISPLAY\n",
      "NO INSTANCES TO DISPLAY\n",
      "NO INSTANCES TO DISPLAY\n",
      "NO INSTANCES TO DISPLAY\n",
      "NO INSTANCES TO DISPLAY\n",
      "NO INSTANCES TO DISPLAY\n",
      "NO INSTANCES TO DISPLAY\n",
      "NO INSTANCES TO DISPLAY\n",
      "NO INSTANCES TO DISPLAY\n",
      "NO INSTANCES TO DISPLAY\n",
      "NO INSTANCES TO DISPLAY\n",
      "NO INSTANCES TO DISPLAY\n",
      "NO INSTANCES TO DISPLAY\n",
      "NO INSTANCES TO DISPLAY\n",
      "NO INSTANCES TO DISPLAY\n",
      "NO INSTANCES TO DISPLAY\n",
      "NO INSTANCES TO DISPLAY\n",
      "NO INSTANCES TO DISPLAY\n",
      "NO INSTANCES TO DISPLAY\n",
      "NO INSTANCES TO DISPLAY\n",
      "NO INSTANCES TO DISPLAY\n",
      "NO INSTANCES TO DISPLAY\n",
      "NO INSTANCES TO DISPLAY\n",
      "NO INSTANCES TO DISPLAY\n",
      "NO INSTANCES TO DISPLAY\n",
      "NO INSTANCES TO DISPLAY\n",
      "NO INSTANCES TO DISPLAY\n",
      "NO INSTANCES TO DISPLAY\n",
      "NO INSTANCES TO DISPLAY\n",
      "NO INSTANCES TO DISPLAY\n",
      "NO INSTANCES TO DISPLAY\n",
      "NO INSTANCES TO DISPLAY\n",
      "NO INSTANCES TO DISPLAY\n",
      "NO INSTANCES TO DISPLAY\n",
      "NO INSTANCES TO DISPLAY\n",
      "NO INSTANCES TO DISPLAY\n",
      "NO INSTANCES TO DISPLAY\n"
     ]
    },
    {
     "name": "stdout",
     "output_type": "stream",
     "text": [
      "NO INSTANCES TO DISPLAY\n",
      "NO INSTANCES TO DISPLAY\n",
      "NO INSTANCES TO DISPLAY\n",
      "NO INSTANCES TO DISPLAY\n",
      "NO INSTANCES TO DISPLAY\n",
      "NO INSTANCES TO DISPLAY\n",
      "NO INSTANCES TO DISPLAY\n",
      "NO INSTANCES TO DISPLAY\n",
      "NO INSTANCES TO DISPLAY\n",
      "NO INSTANCES TO DISPLAY\n",
      "NO INSTANCES TO DISPLAY\n",
      "NO INSTANCES TO DISPLAY\n",
      "NO INSTANCES TO DISPLAY\n",
      "NO INSTANCES TO DISPLAY\n",
      "NO INSTANCES TO DISPLAY\n",
      "NO INSTANCES TO DISPLAY\n",
      "NO INSTANCES TO DISPLAY\n",
      "NO INSTANCES TO DISPLAY\n",
      "NO INSTANCES TO DISPLAY\n",
      "NO INSTANCES TO DISPLAY\n",
      "NO INSTANCES TO DISPLAY\n",
      "NO INSTANCES TO DISPLAY\n",
      "NO INSTANCES TO DISPLAY\n",
      "NO INSTANCES TO DISPLAY\n",
      "NO INSTANCES TO DISPLAY\n",
      "NO INSTANCES TO DISPLAY\n",
      "NO INSTANCES TO DISPLAY\n",
      "NO INSTANCES TO DISPLAY\n",
      "NO INSTANCES TO DISPLAY\n",
      "NO INSTANCES TO DISPLAY\n",
      "NO INSTANCES TO DISPLAY\n",
      "NO INSTANCES TO DISPLAY\n",
      "NO INSTANCES TO DISPLAY\n",
      "NO INSTANCES TO DISPLAY\n",
      "NO INSTANCES TO DISPLAY\n",
      "NO INSTANCES TO DISPLAY\n",
      "NO INSTANCES TO DISPLAY\n",
      "NO INSTANCES TO DISPLAY\n",
      "NO INSTANCES TO DISPLAY\n",
      "NO INSTANCES TO DISPLAY\n",
      "NO INSTANCES TO DISPLAY\n",
      "NO INSTANCES TO DISPLAY\n",
      "NO INSTANCES TO DISPLAY\n",
      "NO INSTANCES TO DISPLAY\n",
      "NO INSTANCES TO DISPLAY\n",
      "NO INSTANCES TO DISPLAY\n",
      "NO INSTANCES TO DISPLAY\n",
      "NO INSTANCES TO DISPLAY\n",
      "NO INSTANCES TO DISPLAY\n",
      "NO INSTANCES TO DISPLAY\n",
      "NO INSTANCES TO DISPLAY\n",
      "NO INSTANCES TO DISPLAY\n",
      "NO INSTANCES TO DISPLAY\n",
      "NO INSTANCES TO DISPLAY\n",
      "NO INSTANCES TO DISPLAY\n",
      "NO INSTANCES TO DISPLAY\n",
      "NO INSTANCES TO DISPLAY\n",
      "NO INSTANCES TO DISPLAY\n",
      "NO INSTANCES TO DISPLAY\n",
      "NO INSTANCES TO DISPLAY\n",
      "NO INSTANCES TO DISPLAY\n",
      "NO INSTANCES TO DISPLAY\n",
      "NO INSTANCES TO DISPLAY\n",
      "NO INSTANCES TO DISPLAY\n",
      "NO INSTANCES TO DISPLAY\n",
      "NO INSTANCES TO DISPLAY\n",
      "NO INSTANCES TO DISPLAY\n",
      "NO INSTANCES TO DISPLAY\n",
      "NO INSTANCES TO DISPLAY\n",
      "NO INSTANCES TO DISPLAY\n",
      "NO INSTANCES TO DISPLAY\n",
      "NO INSTANCES TO DISPLAY\n",
      "NO INSTANCES TO DISPLAY\n",
      "NO INSTANCES TO DISPLAY\n",
      "NO INSTANCES TO DISPLAY\n",
      "NO INSTANCES TO DISPLAY\n",
      "NO INSTANCES TO DISPLAY\n",
      "NO INSTANCES TO DISPLAY\n",
      "NO INSTANCES TO DISPLAY\n",
      "NO INSTANCES TO DISPLAY\n",
      "NO INSTANCES TO DISPLAY\n",
      "NO INSTANCES TO DISPLAY\n",
      "NO INSTANCES TO DISPLAY\n",
      "NO INSTANCES TO DISPLAY\n",
      "NO INSTANCES TO DISPLAY\n",
      "NO INSTANCES TO DISPLAY\n",
      "NO INSTANCES TO DISPLAY\n",
      "NO INSTANCES TO DISPLAY\n",
      "NO INSTANCES TO DISPLAY\n",
      "NO INSTANCES TO DISPLAY\n",
      "NO INSTANCES TO DISPLAY\n",
      "NO INSTANCES TO DISPLAY\n",
      "NO INSTANCES TO DISPLAY\n",
      "NO INSTANCES TO DISPLAY\n",
      "NO INSTANCES TO DISPLAY\n",
      "NO INSTANCES TO DISPLAY\n",
      "NO INSTANCES TO DISPLAY\n",
      "NO INSTANCES TO DISPLAY\n",
      "NO INSTANCES TO DISPLAY\n",
      "NO INSTANCES TO DISPLAY\n",
      "NO INSTANCES TO DISPLAY\n",
      "NO INSTANCES TO DISPLAY\n",
      "NO INSTANCES TO DISPLAY\n",
      "NO INSTANCES TO DISPLAY\n",
      "NO INSTANCES TO DISPLAY\n",
      "NO INSTANCES TO DISPLAY\n",
      "NO INSTANCES TO DISPLAY\n",
      "NO INSTANCES TO DISPLAY\n",
      "NO INSTANCES TO DISPLAY\n",
      "NO INSTANCES TO DISPLAY\n",
      "NO INSTANCES TO DISPLAY\n",
      "NO INSTANCES TO DISPLAY\n",
      "NO INSTANCES TO DISPLAY\n",
      "NO INSTANCES TO DISPLAY\n",
      "NO INSTANCES TO DISPLAY\n",
      "NO INSTANCES TO DISPLAY\n",
      "NO INSTANCES TO DISPLAY\n",
      "NO INSTANCES TO DISPLAY\n",
      "NO INSTANCES TO DISPLAY\n",
      "NO INSTANCES TO DISPLAY\n",
      "NO INSTANCES TO DISPLAY\n",
      "NO INSTANCES TO DISPLAY\n",
      "NO INSTANCES TO DISPLAY\n",
      "NO INSTANCES TO DISPLAY\n",
      "NO INSTANCES TO DISPLAY\n",
      "NO INSTANCES TO DISPLAY\n",
      "NO INSTANCES TO DISPLAY\n",
      "NO INSTANCES TO DISPLAY\n",
      "NO INSTANCES TO DISPLAY\n",
      "NO INSTANCES TO DISPLAY\n",
      "NO INSTANCES TO DISPLAY\n",
      "NO INSTANCES TO DISPLAY\n",
      "NO INSTANCES TO DISPLAY\n",
      "NO INSTANCES TO DISPLAY\n",
      "NO INSTANCES TO DISPLAY\n",
      "NO INSTANCES TO DISPLAY\n",
      "NO INSTANCES TO DISPLAY\n",
      "NO INSTANCES TO DISPLAY\n",
      "NO INSTANCES TO DISPLAY\n",
      "NO INSTANCES TO DISPLAY\n",
      "NO INSTANCES TO DISPLAY\n",
      "NO INSTANCES TO DISPLAY\n",
      "NO INSTANCES TO DISPLAY\n",
      "NO INSTANCES TO DISPLAY\n",
      "NO INSTANCES TO DISPLAY\n",
      "NO INSTANCES TO DISPLAY\n",
      "NO INSTANCES TO DISPLAY\n",
      "NO INSTANCES TO DISPLAY\n",
      "NO INSTANCES TO DISPLAY\n",
      "NO INSTANCES TO DISPLAY\n",
      "NO INSTANCES TO DISPLAY\n",
      "NO INSTANCES TO DISPLAY\n",
      "NO INSTANCES TO DISPLAY\n",
      "NO INSTANCES TO DISPLAY\n",
      "NO INSTANCES TO DISPLAY\n",
      "NO INSTANCES TO DISPLAY\n",
      "NO INSTANCES TO DISPLAY\n",
      "NO INSTANCES TO DISPLAY\n",
      "NO INSTANCES TO DISPLAY\n",
      "NO INSTANCES TO DISPLAY\n",
      "NO INSTANCES TO DISPLAY\n",
      "NO INSTANCES TO DISPLAY\n",
      "NO INSTANCES TO DISPLAY\n",
      "NO INSTANCES TO DISPLAY\n",
      "NO INSTANCES TO DISPLAY\n",
      "NO INSTANCES TO DISPLAY\n",
      "NO INSTANCES TO DISPLAY\n",
      "NO INSTANCES TO DISPLAY\n",
      "NO INSTANCES TO DISPLAY\n",
      "NO INSTANCES TO DISPLAY\n",
      "NO INSTANCES TO DISPLAY\n",
      "NO INSTANCES TO DISPLAY\n",
      "NO INSTANCES TO DISPLAY\n",
      "NO INSTANCES TO DISPLAY\n",
      "NO INSTANCES TO DISPLAY\n",
      "NO INSTANCES TO DISPLAY\n",
      "NO INSTANCES TO DISPLAY\n",
      "NO INSTANCES TO DISPLAY\n",
      "NO INSTANCES TO DISPLAY\n",
      "NO INSTANCES TO DISPLAY\n",
      "NO INSTANCES TO DISPLAY\n",
      "NO INSTANCES TO DISPLAY\n",
      "NO INSTANCES TO DISPLAY\n",
      "NO INSTANCES TO DISPLAY\n",
      "NO INSTANCES TO DISPLAY\n",
      "NO INSTANCES TO DISPLAY\n",
      "NO INSTANCES TO DISPLAY\n",
      "NO INSTANCES TO DISPLAY\n",
      "NO INSTANCES TO DISPLAY\n",
      "NO INSTANCES TO DISPLAY\n",
      "NO INSTANCES TO DISPLAY\n",
      "NO INSTANCES TO DISPLAY\n",
      "NO INSTANCES TO DISPLAY\n",
      "NO INSTANCES TO DISPLAY\n",
      "NO INSTANCES TO DISPLAY\n",
      "NO INSTANCES TO DISPLAY\n",
      "NO INSTANCES TO DISPLAY\n",
      "NO INSTANCES TO DISPLAY\n",
      "NO INSTANCES TO DISPLAY\n",
      "NO INSTANCES TO DISPLAY\n",
      "NO INSTANCES TO DISPLAY\n",
      "NO INSTANCES TO DISPLAY\n",
      "NO INSTANCES TO DISPLAY\n",
      "NO INSTANCES TO DISPLAY\n",
      "NO INSTANCES TO DISPLAY\n",
      "NO INSTANCES TO DISPLAY\n",
      "NO INSTANCES TO DISPLAY\n",
      "NO INSTANCES TO DISPLAY\n",
      "NO INSTANCES TO DISPLAY\n",
      "NO INSTANCES TO DISPLAY\n",
      "NO INSTANCES TO DISPLAY\n",
      "NO INSTANCES TO DISPLAY\n",
      "NO INSTANCES TO DISPLAY\n",
      "NO INSTANCES TO DISPLAY\n",
      "NO INSTANCES TO DISPLAY\n",
      "NO INSTANCES TO DISPLAY\n",
      "NO INSTANCES TO DISPLAY\n",
      "NO INSTANCES TO DISPLAY\n",
      "NO INSTANCES TO DISPLAY\n",
      "NO INSTANCES TO DISPLAY\n",
      "NO INSTANCES TO DISPLAY\n",
      "NO INSTANCES TO DISPLAY\n",
      "NO INSTANCES TO DISPLAY\n",
      "NO INSTANCES TO DISPLAY\n",
      "NO INSTANCES TO DISPLAY\n",
      "NO INSTANCES TO DISPLAY\n",
      "NO INSTANCES TO DISPLAY\n",
      "NO INSTANCES TO DISPLAY\n",
      "NO INSTANCES TO DISPLAY\n",
      "NO INSTANCES TO DISPLAY\n",
      "NO INSTANCES TO DISPLAY\n",
      "NO INSTANCES TO DISPLAY\n",
      "NO INSTANCES TO DISPLAY\n",
      "NO INSTANCES TO DISPLAY\n",
      "NO INSTANCES TO DISPLAY\n",
      "NO INSTANCES TO DISPLAY\n",
      "NO INSTANCES TO DISPLAY\n",
      "NO INSTANCES TO DISPLAY\n",
      "NO INSTANCES TO DISPLAY\n",
      "NO INSTANCES TO DISPLAY\n",
      "NO INSTANCES TO DISPLAY\n",
      "NO INSTANCES TO DISPLAY\n",
      "NO INSTANCES TO DISPLAY\n",
      "NO INSTANCES TO DISPLAY\n",
      "NO INSTANCES TO DISPLAY\n",
      "NO INSTANCES TO DISPLAY\n",
      "NO INSTANCES TO DISPLAY\n",
      "NO INSTANCES TO DISPLAY\n",
      "NO INSTANCES TO DISPLAY\n",
      "NO INSTANCES TO DISPLAY\n",
      "NO INSTANCES TO DISPLAY\n",
      "NO INSTANCES TO DISPLAY\n",
      "NO INSTANCES TO DISPLAY\n",
      "NO INSTANCES TO DISPLAY\n",
      "NO INSTANCES TO DISPLAY\n",
      "NO INSTANCES TO DISPLAY\n",
      "NO INSTANCES TO DISPLAY\n",
      "NO INSTANCES TO DISPLAY\n",
      "NO INSTANCES TO DISPLAY\n",
      "NO INSTANCES TO DISPLAY\n",
      "NO INSTANCES TO DISPLAY\n",
      "NO INSTANCES TO DISPLAY\n",
      "NO INSTANCES TO DISPLAY\n",
      "NO INSTANCES TO DISPLAY\n",
      "NO INSTANCES TO DISPLAY\n",
      "NO INSTANCES TO DISPLAY\n",
      "NO INSTANCES TO DISPLAY\n",
      "NO INSTANCES TO DISPLAY\n",
      "NO INSTANCES TO DISPLAY\n",
      "NO INSTANCES TO DISPLAY\n",
      "NO INSTANCES TO DISPLAY\n",
      "NO INSTANCES TO DISPLAY\n",
      "NO INSTANCES TO DISPLAY\n",
      "NO INSTANCES TO DISPLAY\n",
      "NO INSTANCES TO DISPLAY\n",
      "NO INSTANCES TO DISPLAY\n",
      "NO INSTANCES TO DISPLAY\n",
      "NO INSTANCES TO DISPLAY\n",
      "NO INSTANCES TO DISPLAY\n",
      "NO INSTANCES TO DISPLAY\n",
      "NO INSTANCES TO DISPLAY\n",
      "NO INSTANCES TO DISPLAY\n",
      "NO INSTANCES TO DISPLAY\n",
      "NO INSTANCES TO DISPLAY\n",
      "NO INSTANCES TO DISPLAY\n",
      "NO INSTANCES TO DISPLAY\n",
      "NO INSTANCES TO DISPLAY\n",
      "NO INSTANCES TO DISPLAY\n",
      "NO INSTANCES TO DISPLAY\n",
      "NO INSTANCES TO DISPLAY\n",
      "NO INSTANCES TO DISPLAY\n",
      "NO INSTANCES TO DISPLAY\n",
      "NO INSTANCES TO DISPLAY\n",
      "NO INSTANCES TO DISPLAY\n",
      "NO INSTANCES TO DISPLAY\n",
      "NO INSTANCES TO DISPLAY\n",
      "NO INSTANCES TO DISPLAY\n",
      "NO INSTANCES TO DISPLAY\n",
      "NO INSTANCES TO DISPLAY\n",
      "NO INSTANCES TO DISPLAY\n",
      "NO INSTANCES TO DISPLAY\n",
      "NO INSTANCES TO DISPLAY\n",
      "NO INSTANCES TO DISPLAY\n",
      "NO INSTANCES TO DISPLAY\n",
      "NO INSTANCES TO DISPLAY\n",
      "NO INSTANCES TO DISPLAY\n",
      "NO INSTANCES TO DISPLAY\n",
      "NO INSTANCES TO DISPLAY\n",
      "NO INSTANCES TO DISPLAY\n",
      "NO INSTANCES TO DISPLAY\n",
      "NO INSTANCES TO DISPLAY\n",
      "NO INSTANCES TO DISPLAY\n",
      "NO INSTANCES TO DISPLAY\n",
      "NO INSTANCES TO DISPLAY\n",
      "NO INSTANCES TO DISPLAY\n",
      "NO INSTANCES TO DISPLAY\n",
      "NO INSTANCES TO DISPLAY\n",
      "NO INSTANCES TO DISPLAY\n",
      "NO INSTANCES TO DISPLAY\n",
      "NO INSTANCES TO DISPLAY\n",
      "NO INSTANCES TO DISPLAY\n",
      "NO INSTANCES TO DISPLAY\n",
      "NO INSTANCES TO DISPLAY\n",
      "NO INSTANCES TO DISPLAY\n",
      "NO INSTANCES TO DISPLAY\n",
      "NO INSTANCES TO DISPLAY\n",
      "NO INSTANCES TO DISPLAY\n",
      "NO INSTANCES TO DISPLAY\n",
      "NO INSTANCES TO DISPLAY\n",
      "NO INSTANCES TO DISPLAY\n",
      "NO INSTANCES TO DISPLAY\n",
      "NO INSTANCES TO DISPLAY\n",
      "NO INSTANCES TO DISPLAY\n",
      "NO INSTANCES TO DISPLAY\n",
      "NO INSTANCES TO DISPLAY\n",
      "NO INSTANCES TO DISPLAY\n",
      "NO INSTANCES TO DISPLAY\n",
      "NO INSTANCES TO DISPLAY\n",
      "NO INSTANCES TO DISPLAY\n",
      "NO INSTANCES TO DISPLAY\n",
      "NO INSTANCES TO DISPLAY\n",
      "NO INSTANCES TO DISPLAY\n"
     ]
    },
    {
     "name": "stdout",
     "output_type": "stream",
     "text": [
      "NO INSTANCES TO DISPLAY\n",
      "NO INSTANCES TO DISPLAY\n",
      "NO INSTANCES TO DISPLAY\n",
      "NO INSTANCES TO DISPLAY\n",
      "NO INSTANCES TO DISPLAY\n",
      "NO INSTANCES TO DISPLAY\n",
      "NO INSTANCES TO DISPLAY\n",
      "NO INSTANCES TO DISPLAY\n",
      "NO INSTANCES TO DISPLAY\n",
      "NO INSTANCES TO DISPLAY\n",
      "NO INSTANCES TO DISPLAY\n",
      "NO INSTANCES TO DISPLAY\n",
      "NO INSTANCES TO DISPLAY\n",
      "NO INSTANCES TO DISPLAY\n",
      "NO INSTANCES TO DISPLAY\n",
      "NO INSTANCES TO DISPLAY\n",
      "NO INSTANCES TO DISPLAY\n",
      "NO INSTANCES TO DISPLAY\n",
      "NO INSTANCES TO DISPLAY\n",
      "NO INSTANCES TO DISPLAY\n",
      "NO INSTANCES TO DISPLAY\n",
      "NO INSTANCES TO DISPLAY\n",
      "NO INSTANCES TO DISPLAY\n",
      "NO INSTANCES TO DISPLAY\n",
      "NO INSTANCES TO DISPLAY\n",
      "NO INSTANCES TO DISPLAY\n",
      "NO INSTANCES TO DISPLAY\n",
      "NO INSTANCES TO DISPLAY\n",
      "NO INSTANCES TO DISPLAY\n",
      "NO INSTANCES TO DISPLAY\n",
      "NO INSTANCES TO DISPLAY\n",
      "NO INSTANCES TO DISPLAY\n",
      "NO INSTANCES TO DISPLAY\n",
      "NO INSTANCES TO DISPLAY\n",
      "NO INSTANCES TO DISPLAY\n",
      "NO INSTANCES TO DISPLAY\n",
      "NO INSTANCES TO DISPLAY\n",
      "NO INSTANCES TO DISPLAY\n",
      "NO INSTANCES TO DISPLAY\n",
      "NO INSTANCES TO DISPLAY\n",
      "NO INSTANCES TO DISPLAY\n",
      "NO INSTANCES TO DISPLAY\n",
      "NO INSTANCES TO DISPLAY\n",
      "NO INSTANCES TO DISPLAY\n",
      "NO INSTANCES TO DISPLAY\n",
      "NO INSTANCES TO DISPLAY\n",
      "NO INSTANCES TO DISPLAY\n",
      "NO INSTANCES TO DISPLAY\n",
      "NO INSTANCES TO DISPLAY\n",
      "NO INSTANCES TO DISPLAY\n",
      "NO INSTANCES TO DISPLAY\n",
      "NO INSTANCES TO DISPLAY\n",
      "NO INSTANCES TO DISPLAY\n",
      "NO INSTANCES TO DISPLAY\n",
      "NO INSTANCES TO DISPLAY\n",
      "NO INSTANCES TO DISPLAY\n",
      "NO INSTANCES TO DISPLAY\n",
      "NO INSTANCES TO DISPLAY\n",
      "NO INSTANCES TO DISPLAY\n",
      "NO INSTANCES TO DISPLAY\n",
      "NO INSTANCES TO DISPLAY\n",
      "NO INSTANCES TO DISPLAY\n",
      "NO INSTANCES TO DISPLAY\n",
      "NO INSTANCES TO DISPLAY\n",
      "NO INSTANCES TO DISPLAY\n",
      "NO INSTANCES TO DISPLAY\n",
      "NO INSTANCES TO DISPLAY\n",
      "NO INSTANCES TO DISPLAY\n",
      "NO INSTANCES TO DISPLAY\n",
      "NO INSTANCES TO DISPLAY\n",
      "NO INSTANCES TO DISPLAY\n",
      "NO INSTANCES TO DISPLAY\n",
      "NO INSTANCES TO DISPLAY\n",
      "NO INSTANCES TO DISPLAY\n",
      "NO INSTANCES TO DISPLAY\n",
      "NO INSTANCES TO DISPLAY\n",
      "NO INSTANCES TO DISPLAY\n",
      "NO INSTANCES TO DISPLAY\n",
      "NO INSTANCES TO DISPLAY\n",
      "NO INSTANCES TO DISPLAY\n",
      "NO INSTANCES TO DISPLAY\n",
      "NO INSTANCES TO DISPLAY\n",
      "NO INSTANCES TO DISPLAY\n",
      "NO INSTANCES TO DISPLAY\n",
      "NO INSTANCES TO DISPLAY\n",
      "NO INSTANCES TO DISPLAY\n",
      "NO INSTANCES TO DISPLAY\n",
      "NO INSTANCES TO DISPLAY\n",
      "NO INSTANCES TO DISPLAY\n",
      "NO INSTANCES TO DISPLAY\n",
      "NO INSTANCES TO DISPLAY\n",
      "NO INSTANCES TO DISPLAY\n",
      "NO INSTANCES TO DISPLAY\n",
      "NO INSTANCES TO DISPLAY\n",
      "NO INSTANCES TO DISPLAY\n",
      "NO INSTANCES TO DISPLAY\n",
      "NO INSTANCES TO DISPLAY\n",
      "NO INSTANCES TO DISPLAY\n",
      "NO INSTANCES TO DISPLAY\n",
      "NO INSTANCES TO DISPLAY\n",
      "NO INSTANCES TO DISPLAY\n",
      "NO INSTANCES TO DISPLAY\n",
      "NO INSTANCES TO DISPLAY\n",
      "NO INSTANCES TO DISPLAY\n",
      "NO INSTANCES TO DISPLAY\n",
      "NO INSTANCES TO DISPLAY\n",
      "NO INSTANCES TO DISPLAY\n",
      "NO INSTANCES TO DISPLAY\n",
      "NO INSTANCES TO DISPLAY\n",
      "NO INSTANCES TO DISPLAY\n",
      "NO INSTANCES TO DISPLAY\n",
      "NO INSTANCES TO DISPLAY\n",
      "NO INSTANCES TO DISPLAY\n",
      "NO INSTANCES TO DISPLAY\n",
      "NO INSTANCES TO DISPLAY\n",
      "NO INSTANCES TO DISPLAY\n",
      "NO INSTANCES TO DISPLAY\n",
      "NO INSTANCES TO DISPLAY\n",
      "NO INSTANCES TO DISPLAY\n",
      "NO INSTANCES TO DISPLAY\n",
      "NO INSTANCES TO DISPLAY\n",
      "NO INSTANCES TO DISPLAY\n",
      "NO INSTANCES TO DISPLAY\n",
      "NO INSTANCES TO DISPLAY\n",
      "NO INSTANCES TO DISPLAY\n",
      "NO INSTANCES TO DISPLAY\n",
      "NO INSTANCES TO DISPLAY\n",
      "NO INSTANCES TO DISPLAY\n",
      "NO INSTANCES TO DISPLAY\n",
      "NO INSTANCES TO DISPLAY\n",
      "NO INSTANCES TO DISPLAY\n",
      "NO INSTANCES TO DISPLAY\n",
      "NO INSTANCES TO DISPLAY\n",
      "NO INSTANCES TO DISPLAY\n",
      "NO INSTANCES TO DISPLAY\n",
      "NO INSTANCES TO DISPLAY\n",
      "NO INSTANCES TO DISPLAY\n",
      "NO INSTANCES TO DISPLAY\n",
      "NO INSTANCES TO DISPLAY\n",
      "NO INSTANCES TO DISPLAY\n",
      "NO INSTANCES TO DISPLAY\n",
      "NO INSTANCES TO DISPLAY\n",
      "NO INSTANCES TO DISPLAY\n",
      "NO INSTANCES TO DISPLAY\n",
      "NO INSTANCES TO DISPLAY\n",
      "NO INSTANCES TO DISPLAY\n",
      "NO INSTANCES TO DISPLAY\n",
      "NO INSTANCES TO DISPLAY\n",
      "NO INSTANCES TO DISPLAY\n",
      "NO INSTANCES TO DISPLAY\n",
      "NO INSTANCES TO DISPLAY\n",
      "NO INSTANCES TO DISPLAY\n",
      "NO INSTANCES TO DISPLAY\n",
      "NO INSTANCES TO DISPLAY\n",
      "NO INSTANCES TO DISPLAY\n",
      "NO INSTANCES TO DISPLAY\n",
      "NO INSTANCES TO DISPLAY\n",
      "NO INSTANCES TO DISPLAY\n",
      "NO INSTANCES TO DISPLAY\n",
      "NO INSTANCES TO DISPLAY\n",
      "NO INSTANCES TO DISPLAY\n",
      "NO INSTANCES TO DISPLAY\n",
      "NO INSTANCES TO DISPLAY\n"
     ]
    },
    {
     "ename": "AttributeError",
     "evalue": "'NoneType' object has no attribute 'dtype'",
     "output_type": "error",
     "traceback": [
      "\u001b[1;31m---------------------------------------------------------------------------\u001b[0m",
      "\u001b[1;31mAttributeError\u001b[0m                            Traceback (most recent call last)",
      "\u001b[1;32m~\\AppData\\Local\\Temp/ipykernel_9896/583899439.py\u001b[0m in \u001b[0;36m<module>\u001b[1;34m\u001b[0m\n\u001b[0;32m     11\u001b[0m \u001b[1;32mwhile\u001b[0m \u001b[1;32mTrue\u001b[0m\u001b[1;33m:\u001b[0m\u001b[1;33m\u001b[0m\u001b[0m\n\u001b[0;32m     12\u001b[0m     \u001b[0mret\u001b[0m\u001b[1;33m,\u001b[0m \u001b[0mframe\u001b[0m \u001b[1;33m=\u001b[0m \u001b[0mcapture\u001b[0m\u001b[1;33m.\u001b[0m\u001b[0mread\u001b[0m\u001b[1;33m(\u001b[0m\u001b[1;33m)\u001b[0m\u001b[1;33m\u001b[0m\u001b[0m\n\u001b[1;32m---> 13\u001b[1;33m     \u001b[0mresults\u001b[0m \u001b[1;33m=\u001b[0m \u001b[0mmodel\u001b[0m\u001b[1;33m.\u001b[0m\u001b[0mdetect\u001b[0m\u001b[1;33m(\u001b[0m\u001b[1;33m[\u001b[0m\u001b[0mframe\u001b[0m\u001b[1;33m]\u001b[0m\u001b[1;33m,\u001b[0m \u001b[0mverbose\u001b[0m\u001b[1;33m=\u001b[0m\u001b[1;36m0\u001b[0m\u001b[1;33m)\u001b[0m\u001b[1;33m\u001b[0m\u001b[0m\n\u001b[0m\u001b[0;32m     14\u001b[0m     \u001b[0mr\u001b[0m \u001b[1;33m=\u001b[0m \u001b[0mresults\u001b[0m\u001b[1;33m[\u001b[0m\u001b[1;36m0\u001b[0m\u001b[1;33m]\u001b[0m\u001b[1;33m\u001b[0m\u001b[0m\n\u001b[0;32m     15\u001b[0m     frame = display_instances(\n",
      "\u001b[1;32m~\\Projects\\Mask_RCNN-master\\mrcnn\\model.py\u001b[0m in \u001b[0;36mdetect\u001b[1;34m(self, images, verbose)\u001b[0m\n\u001b[0;32m   2494\u001b[0m \u001b[1;33m\u001b[0m\u001b[0m\n\u001b[0;32m   2495\u001b[0m         \u001b[1;31m# Mold inputs to format expected by the neural network\u001b[0m\u001b[1;33m\u001b[0m\u001b[1;33m\u001b[0m\u001b[0m\n\u001b[1;32m-> 2496\u001b[1;33m         \u001b[0mmolded_images\u001b[0m\u001b[1;33m,\u001b[0m \u001b[0mimage_metas\u001b[0m\u001b[1;33m,\u001b[0m \u001b[0mwindows\u001b[0m \u001b[1;33m=\u001b[0m \u001b[0mself\u001b[0m\u001b[1;33m.\u001b[0m\u001b[0mmold_inputs\u001b[0m\u001b[1;33m(\u001b[0m\u001b[0mimages\u001b[0m\u001b[1;33m)\u001b[0m\u001b[1;33m\u001b[0m\u001b[0m\n\u001b[0m\u001b[0;32m   2497\u001b[0m \u001b[1;33m\u001b[0m\u001b[0m\n\u001b[0;32m   2498\u001b[0m         \u001b[1;31m# Validate image sizes\u001b[0m\u001b[1;33m\u001b[0m\u001b[1;33m\u001b[0m\u001b[0m\n",
      "\u001b[1;32m~\\Projects\\Mask_RCNN-master\\mrcnn\\model.py\u001b[0m in \u001b[0;36mmold_inputs\u001b[1;34m(self, images)\u001b[0m\n\u001b[0;32m   2392\u001b[0m                 \u001b[0mmin_scale\u001b[0m\u001b[1;33m=\u001b[0m\u001b[0mself\u001b[0m\u001b[1;33m.\u001b[0m\u001b[0mconfig\u001b[0m\u001b[1;33m.\u001b[0m\u001b[0mIMAGE_MIN_SCALE\u001b[0m\u001b[1;33m,\u001b[0m\u001b[1;33m\u001b[0m\u001b[0m\n\u001b[0;32m   2393\u001b[0m                 \u001b[0mmax_dim\u001b[0m\u001b[1;33m=\u001b[0m\u001b[0mself\u001b[0m\u001b[1;33m.\u001b[0m\u001b[0mconfig\u001b[0m\u001b[1;33m.\u001b[0m\u001b[0mIMAGE_MAX_DIM\u001b[0m\u001b[1;33m,\u001b[0m\u001b[1;33m\u001b[0m\u001b[0m\n\u001b[1;32m-> 2394\u001b[1;33m                 mode=self.config.IMAGE_RESIZE_MODE)\n\u001b[0m\u001b[0;32m   2395\u001b[0m             \u001b[0mmolded_image\u001b[0m \u001b[1;33m=\u001b[0m \u001b[0mmold_image\u001b[0m\u001b[1;33m(\u001b[0m\u001b[0mmolded_image\u001b[0m\u001b[1;33m,\u001b[0m \u001b[0mself\u001b[0m\u001b[1;33m.\u001b[0m\u001b[0mconfig\u001b[0m\u001b[1;33m)\u001b[0m\u001b[1;33m\u001b[0m\u001b[0m\n\u001b[0;32m   2396\u001b[0m             \u001b[1;31m# Build image_meta\u001b[0m\u001b[1;33m\u001b[0m\u001b[1;33m\u001b[0m\u001b[0m\n",
      "\u001b[1;32m~\\Projects\\Mask_RCNN-master\\mrcnn\\utils.py\u001b[0m in \u001b[0;36mresize_image\u001b[1;34m(image, min_dim, max_dim, min_scale, mode)\u001b[0m\n\u001b[0;32m    419\u001b[0m     \"\"\"\n\u001b[0;32m    420\u001b[0m     \u001b[1;31m# Keep track of image dtype and return results in the same dtype\u001b[0m\u001b[1;33m\u001b[0m\u001b[1;33m\u001b[0m\u001b[0m\n\u001b[1;32m--> 421\u001b[1;33m     \u001b[0mimage_dtype\u001b[0m \u001b[1;33m=\u001b[0m \u001b[0mimage\u001b[0m\u001b[1;33m.\u001b[0m\u001b[0mdtype\u001b[0m\u001b[1;33m\u001b[0m\u001b[0m\n\u001b[0m\u001b[0;32m    422\u001b[0m     \u001b[1;31m# Default window (y1, x1, y2, x2) and default scale == 1.\u001b[0m\u001b[1;33m\u001b[0m\u001b[1;33m\u001b[0m\u001b[0m\n\u001b[0;32m    423\u001b[0m     \u001b[0mh\u001b[0m\u001b[1;33m,\u001b[0m \u001b[0mw\u001b[0m \u001b[1;33m=\u001b[0m \u001b[0mimage\u001b[0m\u001b[1;33m.\u001b[0m\u001b[0mshape\u001b[0m\u001b[1;33m[\u001b[0m\u001b[1;33m:\u001b[0m\u001b[1;36m2\u001b[0m\u001b[1;33m]\u001b[0m\u001b[1;33m\u001b[0m\u001b[0m\n",
      "\u001b[1;31mAttributeError\u001b[0m: 'NoneType' object has no attribute 'dtype'"
     ]
    }
   ],
   "source": [
    "input_video = os.path.join(VIDEO_DIR, \"underwatervid.mp4\")\n",
    "capture = cv2.VideoCapture(input_video)\n",
    "\n",
    "# Recording Video\n",
    "fps = 2.0\n",
    "width = int(capture.get(3))\n",
    "height = int(capture.get(4))\n",
    "fcc = cv2.VideoWriter_fourcc('D', 'I', 'V', 'X')\n",
    "out = cv2.VideoWriter(\"recording_video2.avi\", fcc, fps, (width, height))\n",
    "\n",
    "while True:\n",
    "    ret, frame = capture.read()\n",
    "    results = model.detect([frame], verbose=0)\n",
    "    r = results[0]\n",
    "    frame = display_instances(\n",
    "        frame, r['rois'], r['masks'], r['class_ids'], class_names, r['scores']\n",
    "    )\n",
    "    cv2.imshow('results', frame)\n",
    "\n",
    "    # Recording Video\n",
    "    out.write(frame)\n",
    "\n",
    "    if cv2.waitKey(1) & 0xFF == ord('q'):\n",
    "        break\n",
    "\n",
    "capture.release()\n",
    "cv2.destroyAllWindows()"
   ]
  },
  {
   "cell_type": "code",
   "execution_count": null,
   "id": "7c98f667",
   "metadata": {},
   "outputs": [],
   "source": [
    "# video = cv2.VideoCapture(os.path.join(VIDEO_DIR, 'underwatervid.mp4'))\n",
    "# # Find OpenCV version\n",
    "# (major_ver, minor_ver, subminor_ver) = (cv2.__version__).split('.')\n",
    "# if int(major_ver) < 3:\n",
    "#     fps = video.get(cv2.cv.CV_CAP_PROP_FPS)\n",
    "#     print('Frames per second using video.get(cv2.cv.CV_CAP_PROP_FPS): {0}'.format(fps))\n",
    "# else :\n",
    "#     fps = video.get(cv2.CAP_PROP_FPS)\n",
    "#     print('Frames per second using video.get(cv2.CAP_PROP_FPS) : {0}'.format(fps))\n",
    "# try:\n",
    "#     if not os.path.exists(VIDEO_SAVE_DIR):\n",
    "#         os.makedirs(VIDEO_SAVE_DIR)\n",
    "# except OSError:\n",
    "#     print ('Error: Creating directory of data')\n",
    "# frames = []\n",
    "# frame_count = 0\n",
    "# while True:\n",
    "#     ret, frame = video.read() \n",
    "#     if not ret:\n",
    "#         break\n",
    "#     # Save each frame of the video to a list\n",
    "#     frame_count += 1\n",
    "#     frames.append(frame)\n",
    "#     print('frame_count :{0}'.format(frame_count))\n",
    "# #    if len(frames) == batch_size:\n",
    "# #        results = model.detect(frames, verbose=0)\n",
    "# #        print('Predicted')\n",
    "              \n",
    "#     for i, item in enumerate(zip(frames, results)):\n",
    "#         frame = item[0]\n",
    "#         r = item[1]\n",
    "#         frame = display_instances(frame, r['rois'], r['masks'], r['class_ids'], class_names, r['scores'])\n",
    "#         name = '{0}.jpg'.format(frame_count + i)\n",
    "#         name = os.path.join(VIDEO_SAVE_DIR, name)\n",
    "#         cv2.imwrite(name, frame)\n",
    "#         print('writing to file:{0}'.format(name))\n",
    "#         # Clear the frames array to start the next batch\n",
    "#     frames = []\n",
    "# video.release()"
   ]
  }
 ],
 "metadata": {
  "kernelspec": {
   "display_name": "Python 3 (ipykernel)",
   "language": "python",
   "name": "python3"
  },
  "language_info": {
   "codemirror_mode": {
    "name": "ipython",
    "version": 3
   },
   "file_extension": ".py",
   "mimetype": "text/x-python",
   "name": "python",
   "nbconvert_exporter": "python",
   "pygments_lexer": "ipython3",
   "version": "3.7.0"
  }
 },
 "nbformat": 4,
 "nbformat_minor": 5
}
